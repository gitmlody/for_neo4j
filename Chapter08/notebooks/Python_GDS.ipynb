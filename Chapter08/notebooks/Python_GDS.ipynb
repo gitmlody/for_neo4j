{
 "cells": [
  {
   "cell_type": "markdown",
   "metadata": {},
   "source": [
    "# Using the Neo4j Graph Data Science Library from Python"
   ]
  },
  {
   "cell_type": "code",
   "execution_count": 1,
   "metadata": {},
   "outputs": [],
   "source": [
    "from neo4j import GraphDatabase"
   ]
  },
  {
   "cell_type": "code",
   "execution_count": 2,
   "metadata": {},
   "outputs": [],
   "source": [
    "# TODO: set your own connection credentials here\n",
    "driver = GraphDatabase.driver(\"bolt://localhost:7687\", auth=(\"neo4j\", \"<YOUR_PASSWORD>\"))"
   ]
  },
  {
   "cell_type": "markdown",
   "metadata": {},
   "source": [
    "## Creating the named projected graph"
   ]
  },
  {
   "cell_type": "code",
   "execution_count": 3,
   "metadata": {},
   "outputs": [],
   "source": [
    "graphName = \"my_complex_projected_graph\"\n",
    "\n",
    "nodeProj = {\n",
    "    \"User\": {\n",
    "        \"label\": \"User\",\n",
    "    }\n",
    "}\n",
    "\n",
    "relProj = {\n",
    "    \"FOLLOWS\": {\n",
    "        \"type\": \"FOLLOWS\",\n",
    "        \"orientation\": \"UNDIRECTED\",\n",
    "        \"aggregation\": \"SINGLE\"\n",
    "    }\n",
    "}"
   ]
  },
  {
   "cell_type": "code",
   "execution_count": 4,
   "metadata": {},
   "outputs": [],
   "source": [
    "cypher = \"CALL gds.graph.create( $graphName, $nodeProj, $relProj)\""
   ]
  },
  {
   "cell_type": "code",
   "execution_count": 5,
   "metadata": {},
   "outputs": [
    {
     "data": {
      "text/plain": [
       "[{'graphName': 'my_complex_projected_graph',\n",
       "  'nodeProjection': {'User': {'properties': {}, 'label': 'User'}},\n",
       "  'relationshipProjection': {'FOLLOWS': {'orientation': 'UNDIRECTED',\n",
       "    'aggregation': 'SINGLE',\n",
       "    'type': 'FOLLOWS',\n",
       "    'properties': {}}},\n",
       "  'nodeCount': 596,\n",
       "  'relationshipCount': 1192,\n",
       "  'createMillis': 69}]"
      ]
     },
     "metadata": {},
     "output_type": "display_data"
    }
   ],
   "source": [
    "with driver.session() as session:\n",
    "    result = session.run(\n",
    "        cypher,\n",
    "        graphName=graphName,\n",
    "        nodeProj=nodeProj,\n",
    "        relProj=relProj\n",
    "    )\n",
    "    display(result.data())"
   ]
  },
  {
   "cell_type": "markdown",
   "metadata": {},
   "source": [
    "**WARNING** if you run the above cell twice, you will get the following error message:\n",
    "\n",
    "> ClientError: Failed to invoke procedure `gds.graph.create`: Caused by: java.lang.IllegalArgumentException: A graph with name 'my_complex_projected_graph' already exists.\n",
    "\n",
    "No worry, it just means the GDS can't recreate an existing projected graph. You can run the rest of this notebook safely. If you want to, the queries to drop this projected graph is at the end of this notebook.\n"
   ]
  },
  {
   "cell_type": "markdown",
   "metadata": {},
   "source": [
    "## Running an algorithm: example with PageRank\n",
    "\n",
    "### Algorithm configuration dict"
   ]
  },
  {
   "cell_type": "code",
   "execution_count": 6,
   "metadata": {},
   "outputs": [],
   "source": [
    "algoConfig = {\n",
    "    \"dampingFactor\": 0.85,\n",
    "    # \"relationshipWeightProperty\": \"weight\"\n",
    "}"
   ]
  },
  {
   "cell_type": "code",
   "execution_count": 7,
   "metadata": {},
   "outputs": [
    {
     "data": {
      "text/plain": [
       "{'nodeId': 0, 'score': 0.15000000000000002}"
      ]
     },
     "metadata": {},
     "output_type": "display_data"
    },
    {
     "data": {
      "text/plain": [
       "{'nodeId': 1, 'score': 1.2104374413844197}"
      ]
     },
     "metadata": {},
     "output_type": "display_data"
    },
    {
     "data": {
      "text/plain": [
       "{'nodeId': 2, 'score': 0.9438581566326321}"
      ]
     },
     "metadata": {},
     "output_type": "display_data"
    },
    {
     "data": {
      "text/plain": [
       "{'nodeId': 3, 'score': 0.4038160189986229}"
      ]
     },
     "metadata": {},
     "output_type": "display_data"
    },
    {
     "data": {
      "text/plain": [
       "{'nodeId': 4, 'score': 0.6520907054888087}"
      ]
     },
     "metadata": {},
     "output_type": "display_data"
    },
    {
     "data": {
      "text/plain": [
       "{'nodeId': 5, 'score': 1.733900258783251}"
      ]
     },
     "metadata": {},
     "output_type": "display_data"
    },
    {
     "data": {
      "text/plain": [
       "{'nodeId': 6, 'score': 1.970460276398808}"
      ]
     },
     "metadata": {},
     "output_type": "display_data"
    },
    {
     "data": {
      "text/plain": [
       "{'nodeId': 7, 'score': 0.4038160189986229}"
      ]
     },
     "metadata": {},
     "output_type": "display_data"
    },
    {
     "data": {
      "text/plain": [
       "{'nodeId': 8, 'score': 2.8126600407063966}"
      ]
     },
     "metadata": {},
     "output_type": "display_data"
    },
    {
     "data": {
      "text/plain": [
       "{'nodeId': 9, 'score': 0.9132519175764172}"
      ]
     },
     "metadata": {},
     "output_type": "display_data"
    },
    {
     "data": {
      "text/plain": [
       "{'nodeId': 10, 'score': 9.010058941878375}"
      ]
     },
     "metadata": {},
     "output_type": "display_data"
    },
    {
     "data": {
      "text/plain": [
       "{'nodeId': 11, 'score': 11.484363865479828}"
      ]
     },
     "metadata": {},
     "output_type": "display_data"
    },
    {
     "data": {
      "text/plain": [
       "{'nodeId': 12, 'score': 10.334434717893597}"
      ]
     },
     "metadata": {},
     "output_type": "display_data"
    },
    {
     "data": {
      "text/plain": [
       "{'nodeId': 13, 'score': 3.51371067268774}"
      ]
     },
     "metadata": {},
     "output_type": "display_data"
    },
    {
     "data": {
      "text/plain": [
       "{'nodeId': 14, 'score': 4.429150780197232}"
      ]
     },
     "metadata": {},
     "output_type": "display_data"
    },
    {
     "data": {
      "text/plain": [
       "{'nodeId': 15, 'score': 12.88761965315789}"
      ]
     },
     "metadata": {},
     "output_type": "display_data"
    },
    {
     "data": {
      "text/plain": [
       "{'nodeId': 16, 'score': 10.417098037712279}"
      ]
     },
     "metadata": {},
     "output_type": "display_data"
    },
    {
     "data": {
      "text/plain": [
       "{'nodeId': 17, 'score': 1.8435446158517153}"
      ]
     },
     "metadata": {},
     "output_type": "display_data"
    },
    {
     "data": {
      "text/plain": [
       "{'nodeId': 18, 'score': 14.709171251580118}"
      ]
     },
     "metadata": {},
     "output_type": "display_data"
    },
    {
     "data": {
      "text/plain": [
       "{'nodeId': 19, 'score': 2.159772182954475}"
      ]
     },
     "metadata": {},
     "output_type": "display_data"
    },
    {
     "data": {
      "text/plain": [
       "{'nodeId': 20, 'score': 9.270769257098436}"
      ]
     },
     "metadata": {},
     "output_type": "display_data"
    },
    {
     "data": {
      "text/plain": [
       "{'nodeId': 21, 'score': 5.6819858958479035}"
      ]
     },
     "metadata": {},
     "output_type": "display_data"
    },
    {
     "data": {
      "text/plain": [
       "{'nodeId': 22, 'score': 10.651387471333145}"
      ]
     },
     "metadata": {},
     "output_type": "display_data"
    },
    {
     "data": {
      "text/plain": [
       "{'nodeId': 23, 'score': 4.655745753366499}"
      ]
     },
     "metadata": {},
     "output_type": "display_data"
    },
    {
     "data": {
      "text/plain": [
       "{'nodeId': 24, 'score': 3.9165744459256526}"
      ]
     },
     "metadata": {},
     "output_type": "display_data"
    },
    {
     "data": {
      "text/plain": [
       "{'nodeId': 25, 'score': 10.488682551681997}"
      ]
     },
     "metadata": {},
     "output_type": "display_data"
    },
    {
     "data": {
      "text/plain": [
       "{'nodeId': 26, 'score': 7.839183766581118}"
      ]
     },
     "metadata": {},
     "output_type": "display_data"
    },
    {
     "data": {
      "text/plain": [
       "{'nodeId': 27, 'score': 7.951555732078848}"
      ]
     },
     "metadata": {},
     "output_type": "display_data"
    },
    {
     "data": {
      "text/plain": [
       "{'nodeId': 28, 'score': 1.4411550694378095}"
      ]
     },
     "metadata": {},
     "output_type": "display_data"
    },
    {
     "data": {
      "text/plain": [
       "{'nodeId': 29, 'score': 9.722989419475192}"
      ]
     },
     "metadata": {},
     "output_type": "display_data"
    },
    {
     "data": {
      "text/plain": [
       "{'nodeId': 30, 'score': 13.774939332786015}"
      ]
     },
     "metadata": {},
     "output_type": "display_data"
    },
    {
     "data": {
      "text/plain": [
       "{'nodeId': 31, 'score': 10.313357470557094}"
      ]
     },
     "metadata": {},
     "output_type": "display_data"
    },
    {
     "data": {
      "text/plain": [
       "{'nodeId': 32, 'score': 2.1540201521478597}"
      ]
     },
     "metadata": {},
     "output_type": "display_data"
    },
    {
     "data": {
      "text/plain": [
       "{'nodeId': 33, 'score': 10.885534165613354}"
      ]
     },
     "metadata": {},
     "output_type": "display_data"
    },
    {
     "data": {
      "text/plain": [
       "{'nodeId': 34, 'score': 1.0494503078283743}"
      ]
     },
     "metadata": {},
     "output_type": "display_data"
    },
    {
     "data": {
      "text/plain": [
       "{'nodeId': 35, 'score': 5.135402509756387}"
      ]
     },
     "metadata": {},
     "output_type": "display_data"
    },
    {
     "data": {
      "text/plain": [
       "{'nodeId': 36, 'score': 1.3217056492343546}"
      ]
     },
     "metadata": {},
     "output_type": "display_data"
    },
    {
     "data": {
      "text/plain": [
       "{'nodeId': 37, 'score': 11.624030757509173}"
      ]
     },
     "metadata": {},
     "output_type": "display_data"
    },
    {
     "data": {
      "text/plain": [
       "{'nodeId': 38, 'score': 11.090736489370467}"
      ]
     },
     "metadata": {},
     "output_type": "display_data"
    },
    {
     "data": {
      "text/plain": [
       "{'nodeId': 39, 'score': 1.0808968721888963}"
      ]
     },
     "metadata": {},
     "output_type": "display_data"
    },
    {
     "data": {
      "text/plain": [
       "{'nodeId': 40, 'score': 0.4038160189986229}"
      ]
     },
     "metadata": {},
     "output_type": "display_data"
    },
    {
     "data": {
      "text/plain": [
       "{'nodeId': 41, 'score': 0.4038160189986229}"
      ]
     },
     "metadata": {},
     "output_type": "display_data"
    },
    {
     "data": {
      "text/plain": [
       "{'nodeId': 42, 'score': 0.4038160189986229}"
      ]
     },
     "metadata": {},
     "output_type": "display_data"
    },
    {
     "data": {
      "text/plain": [
       "{'nodeId': 43, 'score': 0.4038160189986229}"
      ]
     },
     "metadata": {},
     "output_type": "display_data"
    },
    {
     "data": {
      "text/plain": [
       "{'nodeId': 44, 'score': 0.664977219211869}"
      ]
     },
     "metadata": {},
     "output_type": "display_data"
    },
    {
     "data": {
      "text/plain": [
       "{'nodeId': 45, 'score': 0.4038160189986229}"
      ]
     },
     "metadata": {},
     "output_type": "display_data"
    },
    {
     "data": {
      "text/plain": [
       "{'nodeId': 46, 'score': 2.510344079695641}"
      ]
     },
     "metadata": {},
     "output_type": "display_data"
    },
    {
     "data": {
      "text/plain": [
       "{'nodeId': 47, 'score': 0.4038160189986229}"
      ]
     },
     "metadata": {},
     "output_type": "display_data"
    },
    {
     "data": {
      "text/plain": [
       "{'nodeId': 48, 'score': 0.4038160189986229}"
      ]
     },
     "metadata": {},
     "output_type": "display_data"
    },
    {
     "data": {
      "text/plain": [
       "{'nodeId': 49, 'score': 0.4038160189986229}"
      ]
     },
     "metadata": {},
     "output_type": "display_data"
    },
    {
     "data": {
      "text/plain": [
       "{'nodeId': 50, 'score': 0.6948489157250152}"
      ]
     },
     "metadata": {},
     "output_type": "display_data"
    },
    {
     "data": {
      "text/plain": [
       "{'nodeId': 51, 'score': 1.934558198181912}"
      ]
     },
     "metadata": {},
     "output_type": "display_data"
    },
    {
     "data": {
      "text/plain": [
       "{'nodeId': 52, 'score': 0.4038160189986229}"
      ]
     },
     "metadata": {},
     "output_type": "display_data"
    },
    {
     "data": {
      "text/plain": [
       "{'nodeId': 53, 'score': 1.6435252923518417}"
      ]
     },
     "metadata": {},
     "output_type": "display_data"
    },
    {
     "data": {
      "text/plain": [
       "{'nodeId': 54, 'score': 0.4038160189986229}"
      ]
     },
     "metadata": {},
     "output_type": "display_data"
    },
    {
     "data": {
      "text/plain": [
       "{'nodeId': 55, 'score': 0.4038160189986229}"
      ]
     },
     "metadata": {},
     "output_type": "display_data"
    },
    {
     "data": {
      "text/plain": [
       "{'nodeId': 56, 'score': 0.4038160189986229}"
      ]
     },
     "metadata": {},
     "output_type": "display_data"
    },
    {
     "data": {
      "text/plain": [
       "{'nodeId': 57, 'score': 1.6435252923518417}"
      ]
     },
     "metadata": {},
     "output_type": "display_data"
    },
    {
     "data": {
      "text/plain": [
       "{'nodeId': 58, 'score': 0.9923651302466169}"
      ]
     },
     "metadata": {},
     "output_type": "display_data"
    },
    {
     "data": {
      "text/plain": [
       "{'nodeId': 59, 'score': 0.39827468174044045}"
      ]
     },
     "metadata": {},
     "output_type": "display_data"
    },
    {
     "data": {
      "text/plain": [
       "{'nodeId': 60, 'score': 0.9566214176360518}"
      ]
     },
     "metadata": {},
     "output_type": "display_data"
    },
    {
     "data": {
      "text/plain": [
       "{'nodeId': 61, 'score': 0.7112250026781113}"
      ]
     },
     "metadata": {},
     "output_type": "display_data"
    },
    {
     "data": {
      "text/plain": [
       "{'nodeId': 62, 'score': 0.6564160814741626}"
      ]
     },
     "metadata": {},
     "output_type": "display_data"
    },
    {
     "data": {
      "text/plain": [
       "{'nodeId': 63, 'score': 0.6564160814741626}"
      ]
     },
     "metadata": {},
     "output_type": "display_data"
    },
    {
     "data": {
      "text/plain": [
       "{'nodeId': 64, 'score': 0.7112250026781113}"
      ]
     },
     "metadata": {},
     "output_type": "display_data"
    },
    {
     "data": {
      "text/plain": [
       "{'nodeId': 65, 'score': 0.39827468174044045}"
      ]
     },
     "metadata": {},
     "output_type": "display_data"
    },
    {
     "data": {
      "text/plain": [
       "{'nodeId': 66, 'score': 0.6564160814741626}"
      ]
     },
     "metadata": {},
     "output_type": "display_data"
    },
    {
     "data": {
      "text/plain": [
       "{'nodeId': 67, 'score': 0.39827468174044045}"
      ]
     },
     "metadata": {},
     "output_type": "display_data"
    },
    {
     "data": {
      "text/plain": [
       "{'nodeId': 68, 'score': 0.9383167983964087}"
      ]
     },
     "metadata": {},
     "output_type": "display_data"
    },
    {
     "data": {
      "text/plain": [
       "{'nodeId': 69, 'score': 0.7266117537394164}"
      ]
     },
     "metadata": {},
     "output_type": "display_data"
    },
    {
     "data": {
      "text/plain": [
       "{'nodeId': 70, 'score': 0.39827468174044045}"
      ]
     },
     "metadata": {},
     "output_type": "display_data"
    },
    {
     "data": {
      "text/plain": [
       "{'nodeId': 71, 'score': 0.39827468174044045}"
      ]
     },
     "metadata": {},
     "output_type": "display_data"
    },
    {
     "data": {
      "text/plain": [
       "{'nodeId': 72, 'score': 0.6594358946196737}"
      ]
     },
     "metadata": {},
     "output_type": "display_data"
    },
    {
     "data": {
      "text/plain": [
       "{'nodeId': 73, 'score': 0.39827468174044045}"
      ]
     },
     "metadata": {},
     "output_type": "display_data"
    },
    {
     "data": {
      "text/plain": [
       "{'nodeId': 74, 'score': 0.39827468174044045}"
      ]
     },
     "metadata": {},
     "output_type": "display_data"
    },
    {
     "data": {
      "text/plain": [
       "{'nodeId': 75, 'score': 0.39827468174044045}"
      ]
     },
     "metadata": {},
     "output_type": "display_data"
    },
    {
     "data": {
      "text/plain": [
       "{'nodeId': 76, 'score': 0.39827468174044045}"
      ]
     },
     "metadata": {},
     "output_type": "display_data"
    },
    {
     "data": {
      "text/plain": [
       "{'nodeId': 77, 'score': 0.39827468174044045}"
      ]
     },
     "metadata": {},
     "output_type": "display_data"
    },
    {
     "data": {
      "text/plain": [
       "{'nodeId': 78, 'score': 0.9671018901746721}"
      ]
     },
     "metadata": {},
     "output_type": "display_data"
    },
    {
     "data": {
      "text/plain": [
       "{'nodeId': 79, 'score': 0.39827468174044045}"
      ]
     },
     "metadata": {},
     "output_type": "display_data"
    },
    {
     "data": {
      "text/plain": [
       "{'nodeId': 80, 'score': 0.43190074027515946}"
      ]
     },
     "metadata": {},
     "output_type": "display_data"
    },
    {
     "data": {
      "text/plain": [
       "{'nodeId': 81, 'score': 0.43190074027515946}"
      ]
     },
     "metadata": {},
     "output_type": "display_data"
    },
    {
     "data": {
      "text/plain": [
       "{'nodeId': 82, 'score': 0.43190074027515946}"
      ]
     },
     "metadata": {},
     "output_type": "display_data"
    },
    {
     "data": {
      "text/plain": [
       "{'nodeId': 83, 'score': 0.43190074027515946}"
      ]
     },
     "metadata": {},
     "output_type": "display_data"
    },
    {
     "data": {
      "text/plain": [
       "{'nodeId': 84, 'score': 0.43190074027515946}"
      ]
     },
     "metadata": {},
     "output_type": "display_data"
    },
    {
     "data": {
      "text/plain": [
       "{'nodeId': 85, 'score': 0.43190074027515946}"
      ]
     },
     "metadata": {},
     "output_type": "display_data"
    },
    {
     "data": {
      "text/plain": [
       "{'nodeId': 86, 'score': 0.43190074027515946}"
      ]
     },
     "metadata": {},
     "output_type": "display_data"
    },
    {
     "data": {
      "text/plain": [
       "{'nodeId': 87, 'score': 0.43190074027515946}"
      ]
     },
     "metadata": {},
     "output_type": "display_data"
    },
    {
     "data": {
      "text/plain": [
       "{'nodeId': 88, 'score': 0.43190074027515946}"
      ]
     },
     "metadata": {},
     "output_type": "display_data"
    },
    {
     "data": {
      "text/plain": [
       "{'nodeId': 89, 'score': 0.43190074027515946}"
      ]
     },
     "metadata": {},
     "output_type": "display_data"
    },
    {
     "data": {
      "text/plain": [
       "{'nodeId': 90, 'score': 0.43190074027515946}"
      ]
     },
     "metadata": {},
     "output_type": "display_data"
    },
    {
     "data": {
      "text/plain": [
       "{'nodeId': 91, 'score': 0.43190074027515946}"
      ]
     },
     "metadata": {},
     "output_type": "display_data"
    },
    {
     "data": {
      "text/plain": [
       "{'nodeId': 92, 'score': 0.43190074027515946}"
      ]
     },
     "metadata": {},
     "output_type": "display_data"
    },
    {
     "data": {
      "text/plain": [
       "{'nodeId': 93, 'score': 0.7229336326476188}"
      ]
     },
     "metadata": {},
     "output_type": "display_data"
    },
    {
     "data": {
      "text/plain": [
       "{'nodeId': 94, 'score': 0.43190074027515946}"
      ]
     },
     "metadata": {},
     "output_type": "display_data"
    },
    {
     "data": {
      "text/plain": [
       "{'nodeId': 95, 'score': 0.43190074027515946}"
      ]
     },
     "metadata": {},
     "output_type": "display_data"
    },
    {
     "data": {
      "text/plain": [
       "{'nodeId': 96, 'score': 0.43190074027515946}"
      ]
     },
     "metadata": {},
     "output_type": "display_data"
    },
    {
     "data": {
      "text/plain": [
       "{'nodeId': 97, 'score': 0.43190074027515946}"
      ]
     },
     "metadata": {},
     "output_type": "display_data"
    },
    {
     "data": {
      "text/plain": [
       "{'nodeId': 98, 'score': 0.7229336326476188}"
      ]
     },
     "metadata": {},
     "output_type": "display_data"
    },
    {
     "data": {
      "text/plain": [
       "{'nodeId': 99, 'score': 0.43190074027515946}"
      ]
     },
     "metadata": {},
     "output_type": "display_data"
    },
    {
     "data": {
      "text/plain": [
       "{'nodeId': 100, 'score': 0.43190074027515946}"
      ]
     },
     "metadata": {},
     "output_type": "display_data"
    },
    {
     "data": {
      "text/plain": [
       "{'nodeId': 101, 'score': 1.0168187347007913}"
      ]
     },
     "metadata": {},
     "output_type": "display_data"
    },
    {
     "data": {
      "text/plain": [
       "{'nodeId': 102, 'score': 0.480725083843572}"
      ]
     },
     "metadata": {},
     "output_type": "display_data"
    },
    {
     "data": {
      "text/plain": [
       "{'nodeId': 103, 'score': 0.480725083843572}"
      ]
     },
     "metadata": {},
     "output_type": "display_data"
    },
    {
     "data": {
      "text/plain": [
       "{'nodeId': 104, 'score': 0.480725083843572}"
      ]
     },
     "metadata": {},
     "output_type": "display_data"
    },
    {
     "data": {
      "text/plain": [
       "{'nodeId': 105, 'score': 5.03721737433225}"
      ]
     },
     "metadata": {},
     "output_type": "display_data"
    },
    {
     "data": {
      "text/plain": [
       "{'nodeId': 106, 'score': 0.480725083843572}"
      ]
     },
     "metadata": {},
     "output_type": "display_data"
    },
    {
     "data": {
      "text/plain": [
       "{'nodeId': 107, 'score': 0.480725083843572}"
      ]
     },
     "metadata": {},
     "output_type": "display_data"
    },
    {
     "data": {
      "text/plain": [
       "{'nodeId': 108, 'score': 0.480725083843572}"
      ]
     },
     "metadata": {},
     "output_type": "display_data"
    },
    {
     "data": {
      "text/plain": [
       "{'nodeId': 109, 'score': 0.480725083843572}"
      ]
     },
     "metadata": {},
     "output_type": "display_data"
    },
    {
     "data": {
      "text/plain": [
       "{'nodeId': 110, 'score': 0.4627487752004526}"
      ]
     },
     "metadata": {},
     "output_type": "display_data"
    },
    {
     "data": {
      "text/plain": [
       "{'nodeId': 111, 'score': 0.4627487752004526}"
      ]
     },
     "metadata": {},
     "output_type": "display_data"
    },
    {
     "data": {
      "text/plain": [
       "{'nodeId': 112, 'score': 0.4627487752004526}"
      ]
     },
     "metadata": {},
     "output_type": "display_data"
    },
    {
     "data": {
      "text/plain": [
       "{'nodeId': 113, 'score': 0.4627487752004526}"
      ]
     },
     "metadata": {},
     "output_type": "display_data"
    },
    {
     "data": {
      "text/plain": [
       "{'nodeId': 114, 'score': 0.4627487752004526}"
      ]
     },
     "metadata": {},
     "output_type": "display_data"
    },
    {
     "data": {
      "text/plain": [
       "{'nodeId': 115, 'score': 0.4627487752004526}"
      ]
     },
     "metadata": {},
     "output_type": "display_data"
    },
    {
     "data": {
      "text/plain": [
       "{'nodeId': 116, 'score': 1.0666725907707586}"
      ]
     },
     "metadata": {},
     "output_type": "display_data"
    },
    {
     "data": {
      "text/plain": [
       "{'nodeId': 117, 'score': 0.4627487752004526}"
      ]
     },
     "metadata": {},
     "output_type": "display_data"
    },
    {
     "data": {
      "text/plain": [
       "{'nodeId': 118, 'score': 0.4627487752004526}"
      ]
     },
     "metadata": {},
     "output_type": "display_data"
    },
    {
     "data": {
      "text/plain": [
       "{'nodeId': 119, 'score': 0.7923768576118165}"
      ]
     },
     "metadata": {},
     "output_type": "display_data"
    },
    {
     "data": {
      "text/plain": [
       "{'nodeId': 120, 'score': 0.5024826485547236}"
      ]
     },
     "metadata": {},
     "output_type": "display_data"
    },
    {
     "data": {
      "text/plain": [
       "{'nodeId': 121, 'score': 0.5024826485547236}"
      ]
     },
     "metadata": {},
     "output_type": "display_data"
    },
    {
     "data": {
      "text/plain": [
       "{'nodeId': 122, 'score': 0.5024826485547236}"
      ]
     },
     "metadata": {},
     "output_type": "display_data"
    },
    {
     "data": {
      "text/plain": [
       "{'nodeId': 123, 'score': 0.5024826485547236}"
      ]
     },
     "metadata": {},
     "output_type": "display_data"
    },
    {
     "data": {
      "text/plain": [
       "{'nodeId': 124, 'score': 0.5024826485547236}"
      ]
     },
     "metadata": {},
     "output_type": "display_data"
    },
    {
     "data": {
      "text/plain": [
       "{'nodeId': 125, 'score': 0.5024826485547236}"
      ]
     },
     "metadata": {},
     "output_type": "display_data"
    },
    {
     "data": {
      "text/plain": [
       "{'nodeId': 126, 'score': 0.5024826485547236}"
      ]
     },
     "metadata": {},
     "output_type": "display_data"
    },
    {
     "data": {
      "text/plain": [
       "{'nodeId': 127, 'score': 0.5024826485547236}"
      ]
     },
     "metadata": {},
     "output_type": "display_data"
    },
    {
     "data": {
      "text/plain": [
       "{'nodeId': 128, 'score': 0.5024826485547236}"
      ]
     },
     "metadata": {},
     "output_type": "display_data"
    },
    {
     "data": {
      "text/plain": [
       "{'nodeId': 129, 'score': 0.5024826485547236}"
      ]
     },
     "metadata": {},
     "output_type": "display_data"
    },
    {
     "data": {
      "text/plain": [
       "{'nodeId': 130, 'score': 0.5024826485547236}"
      ]
     },
     "metadata": {},
     "output_type": "display_data"
    },
    {
     "data": {
      "text/plain": [
       "{'nodeId': 131, 'score': 0.5024826485547236}"
      ]
     },
     "metadata": {},
     "output_type": "display_data"
    },
    {
     "data": {
      "text/plain": [
       "{'nodeId': 132, 'score': 0.5024826485547236}"
      ]
     },
     "metadata": {},
     "output_type": "display_data"
    },
    {
     "data": {
      "text/plain": [
       "{'nodeId': 133, 'score': 0.7963677430874668}"
      ]
     },
     "metadata": {},
     "output_type": "display_data"
    },
    {
     "data": {
      "text/plain": [
       "{'nodeId': 134, 'score': 0.5024826485547236}"
      ]
     },
     "metadata": {},
     "output_type": "display_data"
    },
    {
     "data": {
      "text/plain": [
       "{'nodeId': 135, 'score': 0.5024826485547236}"
      ]
     },
     "metadata": {},
     "output_type": "display_data"
    },
    {
     "data": {
      "text/plain": [
       "{'nodeId': 136, 'score': 0.5024826485547236}"
      ]
     },
     "metadata": {},
     "output_type": "display_data"
    },
    {
     "data": {
      "text/plain": [
       "{'nodeId': 137, 'score': 0.5024826485547236}"
      ]
     },
     "metadata": {},
     "output_type": "display_data"
    },
    {
     "data": {
      "text/plain": [
       "{'nodeId': 138, 'score': 0.5024826485547236}"
      ]
     },
     "metadata": {},
     "output_type": "display_data"
    },
    {
     "data": {
      "text/plain": [
       "{'nodeId': 139, 'score': 0.5024826485547236}"
      ]
     },
     "metadata": {},
     "output_type": "display_data"
    },
    {
     "data": {
      "text/plain": [
       "{'nodeId': 140, 'score': 0.5024826485547236}"
      ]
     },
     "metadata": {},
     "output_type": "display_data"
    },
    {
     "data": {
      "text/plain": [
       "{'nodeId': 141, 'score': 0.5024826485547236}"
      ]
     },
     "metadata": {},
     "output_type": "display_data"
    },
    {
     "data": {
      "text/plain": [
       "{'nodeId': 142, 'score': 0.5024826485547236}"
      ]
     },
     "metadata": {},
     "output_type": "display_data"
    },
    {
     "data": {
      "text/plain": [
       "{'nodeId': 143, 'score': 0.5024826485547236}"
      ]
     },
     "metadata": {},
     "output_type": "display_data"
    },
    {
     "data": {
      "text/plain": [
       "{'nodeId': 144, 'score': 0.5024826485547236}"
      ]
     },
     "metadata": {},
     "output_type": "display_data"
    },
    {
     "data": {
      "text/plain": [
       "{'nodeId': 145, 'score': 0.5024826485547236}"
      ]
     },
     "metadata": {},
     "output_type": "display_data"
    },
    {
     "data": {
      "text/plain": [
       "{'nodeId': 146, 'score': 0.5024826485547236}"
      ]
     },
     "metadata": {},
     "output_type": "display_data"
    },
    {
     "data": {
      "text/plain": [
       "{'nodeId': 147, 'score': 0.5024826485547236}"
      ]
     },
     "metadata": {},
     "output_type": "display_data"
    },
    {
     "data": {
      "text/plain": [
       "{'nodeId': 148, 'score': 0.5024826485547236}"
      ]
     },
     "metadata": {},
     "output_type": "display_data"
    },
    {
     "data": {
      "text/plain": [
       "{'nodeId': 149, 'score': 0.4438851062091998}"
      ]
     },
     "metadata": {},
     "output_type": "display_data"
    },
    {
     "data": {
      "text/plain": [
       "{'nodeId': 150, 'score': 0.9763222157489508}"
      ]
     },
     "metadata": {},
     "output_type": "display_data"
    },
    {
     "data": {
      "text/plain": [
       "{'nodeId': 151, 'score': 0.4438851062091998}"
      ]
     },
     "metadata": {},
     "output_type": "display_data"
    },
    {
     "data": {
      "text/plain": [
       "{'nodeId': 152, 'score': 0.4438851062091998}"
      ]
     },
     "metadata": {},
     "output_type": "display_data"
    },
    {
     "data": {
      "text/plain": [
       "{'nodeId': 153, 'score': 0.4438851062091998}"
      ]
     },
     "metadata": {},
     "output_type": "display_data"
    },
    {
     "data": {
      "text/plain": [
       "{'nodeId': 154, 'score': 0.4438851062091998}"
      ]
     },
     "metadata": {},
     "output_type": "display_data"
    },
    {
     "data": {
      "text/plain": [
       "{'nodeId': 155, 'score': 0.4438851062091998}"
      ]
     },
     "metadata": {},
     "output_type": "display_data"
    },
    {
     "data": {
      "text/plain": [
       "{'nodeId': 156, 'score': 0.4438851062091998}"
      ]
     },
     "metadata": {},
     "output_type": "display_data"
    },
    {
     "data": {
      "text/plain": [
       "{'nodeId': 157, 'score': 0.4438851062091998}"
      ]
     },
     "metadata": {},
     "output_type": "display_data"
    },
    {
     "data": {
      "text/plain": [
       "{'nodeId': 158, 'score': 0.4438851062091998}"
      ]
     },
     "metadata": {},
     "output_type": "display_data"
    },
    {
     "data": {
      "text/plain": [
       "{'nodeId': 159, 'score': 0.4438851062091998}"
      ]
     },
     "metadata": {},
     "output_type": "display_data"
    },
    {
     "data": {
      "text/plain": [
       "{'nodeId': 160, 'score': 0.4438851062091998}"
      ]
     },
     "metadata": {},
     "output_type": "display_data"
    },
    {
     "data": {
      "text/plain": [
       "{'nodeId': 161, 'score': 0.4438851062091998}"
      ]
     },
     "metadata": {},
     "output_type": "display_data"
    },
    {
     "data": {
      "text/plain": [
       "{'nodeId': 162, 'score': 0.4438851062091998}"
      ]
     },
     "metadata": {},
     "output_type": "display_data"
    },
    {
     "data": {
      "text/plain": [
       "{'nodeId': 163, 'score': 0.4438851062091998}"
      ]
     },
     "metadata": {},
     "output_type": "display_data"
    },
    {
     "data": {
      "text/plain": [
       "{'nodeId': 164, 'score': 0.4438851062091998}"
      ]
     },
     "metadata": {},
     "output_type": "display_data"
    },
    {
     "data": {
      "text/plain": [
       "{'nodeId': 165, 'score': 0.4438851062091998}"
      ]
     },
     "metadata": {},
     "output_type": "display_data"
    },
    {
     "data": {
      "text/plain": [
       "{'nodeId': 166, 'score': 0.4438851062091998}"
      ]
     },
     "metadata": {},
     "output_type": "display_data"
    },
    {
     "data": {
      "text/plain": [
       "{'nodeId': 167, 'score': 0.4438851062091998}"
      ]
     },
     "metadata": {},
     "output_type": "display_data"
    },
    {
     "data": {
      "text/plain": [
       "{'nodeId': 168, 'score': 0.4438851062091998}"
      ]
     },
     "metadata": {},
     "output_type": "display_data"
    },
    {
     "data": {
      "text/plain": [
       "{'nodeId': 169, 'score': 0.4438851062091998}"
      ]
     },
     "metadata": {},
     "output_type": "display_data"
    },
    {
     "data": {
      "text/plain": [
       "{'nodeId': 170, 'score': 0.4438851062091998}"
      ]
     },
     "metadata": {},
     "output_type": "display_data"
    },
    {
     "data": {
      "text/plain": [
       "{'nodeId': 171, 'score': 0.46221376489847915}"
      ]
     },
     "metadata": {},
     "output_type": "display_data"
    },
    {
     "data": {
      "text/plain": [
       "{'nodeId': 172, 'score': 0.46221376489847915}"
      ]
     },
     "metadata": {},
     "output_type": "display_data"
    },
    {
     "data": {
      "text/plain": [
       "{'nodeId': 173, 'score': 0.46221376489847915}"
      ]
     },
     "metadata": {},
     "output_type": "display_data"
    },
    {
     "data": {
      "text/plain": [
       "{'nodeId': 174, 'score': 1.0212970750406385}"
      ]
     },
     "metadata": {},
     "output_type": "display_data"
    },
    {
     "data": {
      "text/plain": [
       "{'nodeId': 175, 'score': 0.40814139300491664}"
      ]
     },
     "metadata": {},
     "output_type": "display_data"
    },
    {
     "data": {
      "text/plain": [
       "{'nodeId': 176, 'score': 0.708346742624417}"
      ]
     },
     "metadata": {},
     "output_type": "display_data"
    },
    {
     "data": {
      "text/plain": [
       "{'nodeId': 177, 'score': 0.40814139300491664}"
      ]
     },
     "metadata": {},
     "output_type": "display_data"
    },
    {
     "data": {
      "text/plain": [
       "{'nodeId': 178, 'score': 0.40814139300491664}"
      ]
     },
     "metadata": {},
     "output_type": "display_data"
    },
    {
     "data": {
      "text/plain": [
       "{'nodeId': 179, 'score': 0.40814139300491664}"
      ]
     },
     "metadata": {},
     "output_type": "display_data"
    },
    {
     "data": {
      "text/plain": [
       "{'nodeId': 180, 'score': 0.40814139300491664}"
      ]
     },
     "metadata": {},
     "output_type": "display_data"
    },
    {
     "data": {
      "text/plain": [
       "{'nodeId': 181, 'score': 0.40814139300491664}"
      ]
     },
     "metadata": {},
     "output_type": "display_data"
    },
    {
     "data": {
      "text/plain": [
       "{'nodeId': 182, 'score': 0.40814139300491664}"
      ]
     },
     "metadata": {},
     "output_type": "display_data"
    },
    {
     "data": {
      "text/plain": [
       "{'nodeId': 183, 'score': 0.40814139300491664}"
      ]
     },
     "metadata": {},
     "output_type": "display_data"
    },
    {
     "data": {
      "text/plain": [
       "{'nodeId': 184, 'score': 0.40814139300491664}"
      ]
     },
     "metadata": {},
     "output_type": "display_data"
    },
    {
     "data": {
      "text/plain": [
       "{'nodeId': 185, 'score': 0.40814139300491664}"
      ]
     },
     "metadata": {},
     "output_type": "display_data"
    },
    {
     "data": {
      "text/plain": [
       "{'nodeId': 186, 'score': 0.40814139300491664}"
      ]
     },
     "metadata": {},
     "output_type": "display_data"
    },
    {
     "data": {
      "text/plain": [
       "{'nodeId': 187, 'score': 0.40814139300491664}"
      ]
     },
     "metadata": {},
     "output_type": "display_data"
    },
    {
     "data": {
      "text/plain": [
       "{'nodeId': 188, 'score': 0.40814139300491664}"
      ]
     },
     "metadata": {},
     "output_type": "display_data"
    },
    {
     "data": {
      "text/plain": [
       "{'nodeId': 189, 'score': 0.40814139300491664}"
      ]
     },
     "metadata": {},
     "output_type": "display_data"
    },
    {
     "data": {
      "text/plain": [
       "{'nodeId': 190, 'score': 0.40814139300491664}"
      ]
     },
     "metadata": {},
     "output_type": "display_data"
    },
    {
     "data": {
      "text/plain": [
       "{'nodeId': 191, 'score': 0.40814139300491664}"
      ]
     },
     "metadata": {},
     "output_type": "display_data"
    },
    {
     "data": {
      "text/plain": [
       "{'nodeId': 192, 'score': 0.6281139222090133}"
      ]
     },
     "metadata": {},
     "output_type": "display_data"
    },
    {
     "data": {
      "text/plain": [
       "{'nodeId': 193, 'score': 0.4110923801665194}"
      ]
     },
     "metadata": {},
     "output_type": "display_data"
    },
    {
     "data": {
      "text/plain": [
       "{'nodeId': 194, 'score': 0.6281139222090133}"
      ]
     },
     "metadata": {},
     "output_type": "display_data"
    },
    {
     "data": {
      "text/plain": [
       "{'nodeId': 195, 'score': 0.6281139222090133}"
      ]
     },
     "metadata": {},
     "output_type": "display_data"
    },
    {
     "data": {
      "text/plain": [
       "{'nodeId': 196, 'score': 0.4110923801665194}"
      ]
     },
     "metadata": {},
     "output_type": "display_data"
    },
    {
     "data": {
      "text/plain": [
       "{'nodeId': 197, 'score': 0.4111612107022665}"
      ]
     },
     "metadata": {},
     "output_type": "display_data"
    },
    {
     "data": {
      "text/plain": [
       "{'nodeId': 198, 'score': 0.4111612107022665}"
      ]
     },
     "metadata": {},
     "output_type": "display_data"
    },
    {
     "data": {
      "text/plain": [
       "{'nodeId': 199, 'score': 0.4111612107022665}"
      ]
     },
     "metadata": {},
     "output_type": "display_data"
    },
    {
     "data": {
      "text/plain": [
       "{'nodeId': 200, 'score': 0.4111612107022665}"
      ]
     },
     "metadata": {},
     "output_type": "display_data"
    },
    {
     "data": {
      "text/plain": [
       "{'nodeId': 201, 'score': 0.4111612107022665}"
      ]
     },
     "metadata": {},
     "output_type": "display_data"
    },
    {
     "data": {
      "text/plain": [
       "{'nodeId': 202, 'score': 0.4111612107022665}"
      ]
     },
     "metadata": {},
     "output_type": "display_data"
    },
    {
     "data": {
      "text/plain": [
       "{'nodeId': 203, 'score': 0.4111612107022665}"
      ]
     },
     "metadata": {},
     "output_type": "display_data"
    },
    {
     "data": {
      "text/plain": [
       "{'nodeId': 204, 'score': 0.4111612107022665}"
      ]
     },
     "metadata": {},
     "output_type": "display_data"
    },
    {
     "data": {
      "text/plain": [
       "{'nodeId': 205, 'score': 0.4111612107022665}"
      ]
     },
     "metadata": {},
     "output_type": "display_data"
    },
    {
     "data": {
      "text/plain": [
       "{'nodeId': 206, 'score': 0.4111612107022665}"
      ]
     },
     "metadata": {},
     "output_type": "display_data"
    },
    {
     "data": {
      "text/plain": [
       "{'nodeId': 207, 'score': 0.7241115365875885}"
      ]
     },
     "metadata": {},
     "output_type": "display_data"
    },
    {
     "data": {
      "text/plain": [
       "{'nodeId': 208, 'score': 0.4111612107022665}"
      ]
     },
     "metadata": {},
     "output_type": "display_data"
    },
    {
     "data": {
      "text/plain": [
       "{'nodeId': 209, 'score': 1.000640123151243}"
      ]
     },
     "metadata": {},
     "output_type": "display_data"
    },
    {
     "data": {
      "text/plain": [
       "{'nodeId': 210, 'score': 0.4111612107022665}"
      ]
     },
     "metadata": {},
     "output_type": "display_data"
    },
    {
     "data": {
      "text/plain": [
       "{'nodeId': 211, 'score': 0.4111612107022665}"
      ]
     },
     "metadata": {},
     "output_type": "display_data"
    },
    {
     "data": {
      "text/plain": [
       "{'nodeId': 212, 'score': 0.4111612107022665}"
      ]
     },
     "metadata": {},
     "output_type": "display_data"
    },
    {
     "data": {
      "text/plain": [
       "{'nodeId': 213, 'score': 0.4111612107022665}"
      ]
     },
     "metadata": {},
     "output_type": "display_data"
    },
    {
     "data": {
      "text/plain": [
       "{'nodeId': 214, 'score': 1.4419445043895391}"
      ]
     },
     "metadata": {},
     "output_type": "display_data"
    },
    {
     "data": {
      "text/plain": [
       "{'nodeId': 215, 'score': 0.5208406994584946}"
      ]
     },
     "metadata": {},
     "output_type": "display_data"
    },
    {
     "data": {
      "text/plain": [
       "{'nodeId': 216, 'score': 0.5208406994584946}"
      ]
     },
     "metadata": {},
     "output_type": "display_data"
    },
    {
     "data": {
      "text/plain": [
       "{'nodeId': 217, 'score': 0.5208406994584946}"
      ]
     },
     "metadata": {},
     "output_type": "display_data"
    },
    {
     "data": {
      "text/plain": [
       "{'nodeId': 218, 'score': 0.5208406994584946}"
      ]
     },
     "metadata": {},
     "output_type": "display_data"
    },
    {
     "data": {
      "text/plain": [
       "{'nodeId': 219, 'score': 0.5208406994584946}"
      ]
     },
     "metadata": {},
     "output_type": "display_data"
    },
    {
     "data": {
      "text/plain": [
       "{'nodeId': 220, 'score': 0.5208406994584946}"
      ]
     },
     "metadata": {},
     "output_type": "display_data"
    },
    {
     "data": {
      "text/plain": [
       "{'nodeId': 221, 'score': 0.5208406994584946}"
      ]
     },
     "metadata": {},
     "output_type": "display_data"
    },
    {
     "data": {
      "text/plain": [
       "{'nodeId': 222, 'score': 0.5208406994584946}"
      ]
     },
     "metadata": {},
     "output_type": "display_data"
    },
    {
     "data": {
      "text/plain": [
       "{'nodeId': 223, 'score': 0.5208406994584946}"
      ]
     },
     "metadata": {},
     "output_type": "display_data"
    },
    {
     "data": {
      "text/plain": [
       "{'nodeId': 224, 'score': 0.5208406994584946}"
      ]
     },
     "metadata": {},
     "output_type": "display_data"
    },
    {
     "data": {
      "text/plain": [
       "{'nodeId': 225, 'score': 0.5208406994584946}"
      ]
     },
     "metadata": {},
     "output_type": "display_data"
    },
    {
     "data": {
      "text/plain": [
       "{'nodeId': 226, 'score': 0.5208406994584946}"
      ]
     },
     "metadata": {},
     "output_type": "display_data"
    },
    {
     "data": {
      "text/plain": [
       "{'nodeId': 227, 'score': 0.4502053401200101}"
      ]
     },
     "metadata": {},
     "output_type": "display_data"
    },
    {
     "data": {
      "text/plain": [
       "{'nodeId': 228, 'score': 0.4502053401200101}"
      ]
     },
     "metadata": {},
     "output_type": "display_data"
    },
    {
     "data": {
      "text/plain": [
       "{'nodeId': 229, 'score': 0.4502053401200101}"
      ]
     },
     "metadata": {},
     "output_type": "display_data"
    },
    {
     "data": {
      "text/plain": [
       "{'nodeId': 230, 'score': 0.4502053401200101}"
      ]
     },
     "metadata": {},
     "output_type": "display_data"
    },
    {
     "data": {
      "text/plain": [
       "{'nodeId': 231, 'score': 0.4502053401200101}"
      ]
     },
     "metadata": {},
     "output_type": "display_data"
    },
    {
     "data": {
      "text/plain": [
       "{'nodeId': 232, 'score': 0.4502053401200101}"
      ]
     },
     "metadata": {},
     "output_type": "display_data"
    },
    {
     "data": {
      "text/plain": [
       "{'nodeId': 233, 'score': 0.4502053401200101}"
      ]
     },
     "metadata": {},
     "output_type": "display_data"
    },
    {
     "data": {
      "text/plain": [
       "{'nodeId': 234, 'score': 0.4502053401200101}"
      ]
     },
     "metadata": {},
     "output_type": "display_data"
    },
    {
     "data": {
      "text/plain": [
       "{'nodeId': 235, 'score': 0.4502053401200101}"
      ]
     },
     "metadata": {},
     "output_type": "display_data"
    },
    {
     "data": {
      "text/plain": [
       "{'nodeId': 236, 'score': 0.4502053401200101}"
      ]
     },
     "metadata": {},
     "output_type": "display_data"
    },
    {
     "data": {
      "text/plain": [
       "{'nodeId': 237, 'score': 0.4502053401200101}"
      ]
     },
     "metadata": {},
     "output_type": "display_data"
    },
    {
     "data": {
      "text/plain": [
       "{'nodeId': 238, 'score': 0.7631556642241777}"
      ]
     },
     "metadata": {},
     "output_type": "display_data"
    },
    {
     "data": {
      "text/plain": [
       "{'nodeId': 239, 'score': 0.4502053401200101}"
      ]
     },
     "metadata": {},
     "output_type": "display_data"
    },
    {
     "data": {
      "text/plain": [
       "{'nodeId': 240, 'score': 0.4502053401200101}"
      ]
     },
     "metadata": {},
     "output_type": "display_data"
    },
    {
     "data": {
      "text/plain": [
       "{'nodeId': 241, 'score': 0.4502053401200101}"
      ]
     },
     "metadata": {},
     "output_type": "display_data"
    },
    {
     "data": {
      "text/plain": [
       "{'nodeId': 242, 'score': 0.4502053401200101}"
      ]
     },
     "metadata": {},
     "output_type": "display_data"
    },
    {
     "data": {
      "text/plain": [
       "{'nodeId': 243, 'score': 0.4502053401200101}"
      ]
     },
     "metadata": {},
     "output_type": "display_data"
    },
    {
     "data": {
      "text/plain": [
       "{'nodeId': 244, 'score': 0.4502053401200101}"
      ]
     },
     "metadata": {},
     "output_type": "display_data"
    },
    {
     "data": {
      "text/plain": [
       "{'nodeId': 245, 'score': 0.4502053401200101}"
      ]
     },
     "metadata": {},
     "output_type": "display_data"
    },
    {
     "data": {
      "text/plain": [
       "{'nodeId': 246, 'score': 0.4502053401200101}"
      ]
     },
     "metadata": {},
     "output_type": "display_data"
    },
    {
     "data": {
      "text/plain": [
       "{'nodeId': 247, 'score': 0.4502053401200101}"
      ]
     },
     "metadata": {},
     "output_type": "display_data"
    },
    {
     "data": {
      "text/plain": [
       "{'nodeId': 248, 'score': 0.4502053401200101}"
      ]
     },
     "metadata": {},
     "output_type": "display_data"
    },
    {
     "data": {
      "text/plain": [
       "{'nodeId': 249, 'score': 0.3686089716793504}"
      ]
     },
     "metadata": {},
     "output_type": "display_data"
    },
    {
     "data": {
      "text/plain": [
       "{'nodeId': 250, 'score': 0.3686089716793504}"
      ]
     },
     "metadata": {},
     "output_type": "display_data"
    },
    {
     "data": {
      "text/plain": [
       "{'nodeId': 251, 'score': 0.8599262353032828}"
      ]
     },
     "metadata": {},
     "output_type": "display_data"
    },
    {
     "data": {
      "text/plain": [
       "{'nodeId': 252, 'score': 0.5856305082794279}"
      ]
     },
     "metadata": {},
     "output_type": "display_data"
    },
    {
     "data": {
      "text/plain": [
       "{'nodeId': 253, 'score': 0.8091913470299915}"
      ]
     },
     "metadata": {},
     "output_type": "display_data"
    },
    {
     "data": {
      "text/plain": [
       "{'nodeId': 254, 'score': 0.8091913470299915}"
      ]
     },
     "metadata": {},
     "output_type": "display_data"
    },
    {
     "data": {
      "text/plain": [
       "{'nodeId': 255, 'score': 0.3686089716793504}"
      ]
     },
     "metadata": {},
     "output_type": "display_data"
    },
    {
     "data": {
      "text/plain": [
       "{'nodeId': 256, 'score': 0.8091913470299915}"
      ]
     },
     "metadata": {},
     "output_type": "display_data"
    },
    {
     "data": {
      "text/plain": [
       "{'nodeId': 257, 'score': 0.8091913470299915}"
      ]
     },
     "metadata": {},
     "output_type": "display_data"
    },
    {
     "data": {
      "text/plain": [
       "{'nodeId': 258, 'score': 0.5190908811811824}"
      ]
     },
     "metadata": {},
     "output_type": "display_data"
    },
    {
     "data": {
      "text/plain": [
       "{'nodeId': 259, 'score': 0.5190908811811824}"
      ]
     },
     "metadata": {},
     "output_type": "display_data"
    },
    {
     "data": {
      "text/plain": [
       "{'nodeId': 260, 'score': 0.5190908811811824}"
      ]
     },
     "metadata": {},
     "output_type": "display_data"
    },
    {
     "data": {
      "text/plain": [
       "{'nodeId': 261, 'score': 0.5190908811811824}"
      ]
     },
     "metadata": {},
     "output_type": "display_data"
    },
    {
     "data": {
      "text/plain": [
       "{'nodeId': 262, 'score': 0.5190908811811824}"
      ]
     },
     "metadata": {},
     "output_type": "display_data"
    },
    {
     "data": {
      "text/plain": [
       "{'nodeId': 263, 'score': 0.5190908811811824}"
      ]
     },
     "metadata": {},
     "output_type": "display_data"
    },
    {
     "data": {
      "text/plain": [
       "{'nodeId': 264, 'score': 0.5190908811811824}"
      ]
     },
     "metadata": {},
     "output_type": "display_data"
    },
    {
     "data": {
      "text/plain": [
       "{'nodeId': 265, 'score': 0.5190908811811824}"
      ]
     },
     "metadata": {},
     "output_type": "display_data"
    },
    {
     "data": {
      "text/plain": [
       "{'nodeId': 266, 'score': 0.4186218609916978}"
      ]
     },
     "metadata": {},
     "output_type": "display_data"
    },
    {
     "data": {
      "text/plain": [
       "{'nodeId': 267, 'score': 0.4186218609916978}"
      ]
     },
     "metadata": {},
     "output_type": "display_data"
    },
    {
     "data": {
      "text/plain": [
       "{'nodeId': 268, 'score': 0.4186218609916978}"
      ]
     },
     "metadata": {},
     "output_type": "display_data"
    },
    {
     "data": {
      "text/plain": [
       "{'nodeId': 269, 'score': 0.4186218609916978}"
      ]
     },
     "metadata": {},
     "output_type": "display_data"
    },
    {
     "data": {
      "text/plain": [
       "{'nodeId': 270, 'score': 0.7469589244807141}"
      ]
     },
     "metadata": {},
     "output_type": "display_data"
    },
    {
     "data": {
      "text/plain": [
       "{'nodeId': 271, 'score': 0.4186218609916978}"
      ]
     },
     "metadata": {},
     "output_type": "display_data"
    },
    {
     "data": {
      "text/plain": [
       "{'nodeId': 272, 'score': 0.4186218609916978}"
      ]
     },
     "metadata": {},
     "output_type": "display_data"
    },
    {
     "data": {
      "text/plain": [
       "{'nodeId': 273, 'score': 0.4186218609916978}"
      ]
     },
     "metadata": {},
     "output_type": "display_data"
    },
    {
     "data": {
      "text/plain": [
       "{'nodeId': 274, 'score': 0.4186218609916978}"
      ]
     },
     "metadata": {},
     "output_type": "display_data"
    },
    {
     "data": {
      "text/plain": [
       "{'nodeId': 275, 'score': 0.4186218609916978}"
      ]
     },
     "metadata": {},
     "output_type": "display_data"
    },
    {
     "data": {
      "text/plain": [
       "{'nodeId': 276, 'score': 0.4186218609916978}"
      ]
     },
     "metadata": {},
     "output_type": "display_data"
    },
    {
     "data": {
      "text/plain": [
       "{'nodeId': 277, 'score': 0.4186218609916978}"
      ]
     },
     "metadata": {},
     "output_type": "display_data"
    },
    {
     "data": {
      "text/plain": [
       "{'nodeId': 278, 'score': 0.4186218609916978}"
      ]
     },
     "metadata": {},
     "output_type": "display_data"
    },
    {
     "data": {
      "text/plain": [
       "{'nodeId': 279, 'score': 0.4186218609916978}"
      ]
     },
     "metadata": {},
     "output_type": "display_data"
    },
    {
     "data": {
      "text/plain": [
       "{'nodeId': 280, 'score': 0.4186218609916978}"
      ]
     },
     "metadata": {},
     "output_type": "display_data"
    },
    {
     "data": {
      "text/plain": [
       "{'nodeId': 281, 'score': 0.4186218609916978}"
      ]
     },
     "metadata": {},
     "output_type": "display_data"
    },
    {
     "data": {
      "text/plain": [
       "{'nodeId': 282, 'score': 0.4186218609916978}"
      ]
     },
     "metadata": {},
     "output_type": "display_data"
    },
    {
     "data": {
      "text/plain": [
       "{'nodeId': 283, 'score': 0.4186218609916978}"
      ]
     },
     "metadata": {},
     "output_type": "display_data"
    },
    {
     "data": {
      "text/plain": [
       "{'nodeId': 284, 'score': 0.4186218609916978}"
      ]
     },
     "metadata": {},
     "output_type": "display_data"
    },
    {
     "data": {
      "text/plain": [
       "{'nodeId': 285, 'score': 0.4186218609916978}"
      ]
     },
     "metadata": {},
     "output_type": "display_data"
    },
    {
     "data": {
      "text/plain": [
       "{'nodeId': 286, 'score': 0.4998259742045775}"
      ]
     },
     "metadata": {},
     "output_type": "display_data"
    },
    {
     "data": {
      "text/plain": [
       "{'nodeId': 287, 'score': 0.4998259742045775}"
      ]
     },
     "metadata": {},
     "output_type": "display_data"
    },
    {
     "data": {
      "text/plain": [
       "{'nodeId': 288, 'score': 0.4998259742045775}"
      ]
     },
     "metadata": {},
     "output_type": "display_data"
    },
    {
     "data": {
      "text/plain": [
       "{'nodeId': 289, 'score': 0.4998259742045775}"
      ]
     },
     "metadata": {},
     "output_type": "display_data"
    },
    {
     "data": {
      "text/plain": [
       "{'nodeId': 290, 'score': 0.4998259742045775}"
      ]
     },
     "metadata": {},
     "output_type": "display_data"
    },
    {
     "data": {
      "text/plain": [
       "{'nodeId': 291, 'score': 0.4998259742045775}"
      ]
     },
     "metadata": {},
     "output_type": "display_data"
    },
    {
     "data": {
      "text/plain": [
       "{'nodeId': 292, 'score': 0.4998259742045775}"
      ]
     },
     "metadata": {},
     "output_type": "display_data"
    },
    {
     "data": {
      "text/plain": [
       "{'nodeId': 293, 'score': 0.4998259742045775}"
      ]
     },
     "metadata": {},
     "output_type": "display_data"
    },
    {
     "data": {
      "text/plain": [
       "{'nodeId': 294, 'score': 0.4998259742045775}"
      ]
     },
     "metadata": {},
     "output_type": "display_data"
    },
    {
     "data": {
      "text/plain": [
       "{'nodeId': 295, 'score': 0.4998259742045775}"
      ]
     },
     "metadata": {},
     "output_type": "display_data"
    },
    {
     "data": {
      "text/plain": [
       "{'nodeId': 296, 'score': 0.4998259742045775}"
      ]
     },
     "metadata": {},
     "output_type": "display_data"
    },
    {
     "data": {
      "text/plain": [
       "{'nodeId': 297, 'score': 0.4998259742045775}"
      ]
     },
     "metadata": {},
     "output_type": "display_data"
    },
    {
     "data": {
      "text/plain": [
       "{'nodeId': 298, 'score': 0.4998259742045775}"
      ]
     },
     "metadata": {},
     "output_type": "display_data"
    },
    {
     "data": {
      "text/plain": [
       "{'nodeId': 299, 'score': 0.4998259742045775}"
      ]
     },
     "metadata": {},
     "output_type": "display_data"
    },
    {
     "data": {
      "text/plain": [
       "{'nodeId': 300, 'score': 0.4998259742045775}"
      ]
     },
     "metadata": {},
     "output_type": "display_data"
    },
    {
     "data": {
      "text/plain": [
       "{'nodeId': 301, 'score': 0.4998259742045775}"
      ]
     },
     "metadata": {},
     "output_type": "display_data"
    },
    {
     "data": {
      "text/plain": [
       "{'nodeId': 302, 'score': 0.4998259742045775}"
      ]
     },
     "metadata": {},
     "output_type": "display_data"
    },
    {
     "data": {
      "text/plain": [
       "{'nodeId': 303, 'score': 0.4708570546237752}"
      ]
     },
     "metadata": {},
     "output_type": "display_data"
    },
    {
     "data": {
      "text/plain": [
       "{'nodeId': 304, 'score': 0.4708570546237752}"
      ]
     },
     "metadata": {},
     "output_type": "display_data"
    },
    {
     "data": {
      "text/plain": [
       "{'nodeId': 305, 'score': 0.4708570546237752}"
      ]
     },
     "metadata": {},
     "output_type": "display_data"
    },
    {
     "data": {
      "text/plain": [
       "{'nodeId': 306, 'score': 0.4708570546237752}"
      ]
     },
     "metadata": {},
     "output_type": "display_data"
    },
    {
     "data": {
      "text/plain": [
       "{'nodeId': 307, 'score': 0.4708570546237752}"
      ]
     },
     "metadata": {},
     "output_type": "display_data"
    },
    {
     "data": {
      "text/plain": [
       "{'nodeId': 308, 'score': 0.4708570546237752}"
      ]
     },
     "metadata": {},
     "output_type": "display_data"
    },
    {
     "data": {
      "text/plain": [
       "{'nodeId': 309, 'score': 0.4708570546237752}"
      ]
     },
     "metadata": {},
     "output_type": "display_data"
    },
    {
     "data": {
      "text/plain": [
       "{'nodeId': 310, 'score': 0.4708570546237752}"
      ]
     },
     "metadata": {},
     "output_type": "display_data"
    },
    {
     "data": {
      "text/plain": [
       "{'nodeId': 311, 'score': 0.4708570546237752}"
      ]
     },
     "metadata": {},
     "output_type": "display_data"
    },
    {
     "data": {
      "text/plain": [
       "{'nodeId': 312, 'score': 0.4708570546237752}"
      ]
     },
     "metadata": {},
     "output_type": "display_data"
    },
    {
     "data": {
      "text/plain": [
       "{'nodeId': 313, 'score': 0.4708570546237752}"
      ]
     },
     "metadata": {},
     "output_type": "display_data"
    },
    {
     "data": {
      "text/plain": [
       "{'nodeId': 314, 'score': 0.4708570546237752}"
      ]
     },
     "metadata": {},
     "output_type": "display_data"
    },
    {
     "data": {
      "text/plain": [
       "{'nodeId': 315, 'score': 0.4708570546237752}"
      ]
     },
     "metadata": {},
     "output_type": "display_data"
    },
    {
     "data": {
      "text/plain": [
       "{'nodeId': 316, 'score': 0.4708570546237752}"
      ]
     },
     "metadata": {},
     "output_type": "display_data"
    },
    {
     "data": {
      "text/plain": [
       "{'nodeId': 317, 'score': 0.4708570546237752}"
      ]
     },
     "metadata": {},
     "output_type": "display_data"
    },
    {
     "data": {
      "text/plain": [
       "{'nodeId': 318, 'score': 0.4708570546237752}"
      ]
     },
     "metadata": {},
     "output_type": "display_data"
    },
    {
     "data": {
      "text/plain": [
       "{'nodeId': 319, 'score': 0.4708570546237752}"
      ]
     },
     "metadata": {},
     "output_type": "display_data"
    },
    {
     "data": {
      "text/plain": [
       "{'nodeId': 320, 'score': 0.4550457115750759}"
      ]
     },
     "metadata": {},
     "output_type": "display_data"
    },
    {
     "data": {
      "text/plain": [
       "{'nodeId': 321, 'score': 0.4550457115750759}"
      ]
     },
     "metadata": {},
     "output_type": "display_data"
    },
    {
     "data": {
      "text/plain": [
       "{'nodeId': 322, 'score': 0.42429571208194833}"
      ]
     },
     "metadata": {},
     "output_type": "display_data"
    },
    {
     "data": {
      "text/plain": [
       "{'nodeId': 323, 'score': 0.42429571208194833}"
      ]
     },
     "metadata": {},
     "output_type": "display_data"
    },
    {
     "data": {
      "text/plain": [
       "{'nodeId': 324, 'score': 0.42429571208194833}"
      ]
     },
     "metadata": {},
     "output_type": "display_data"
    },
    {
     "data": {
      "text/plain": [
       "{'nodeId': 325, 'score': 0.42429571208194833}"
      ]
     },
     "metadata": {},
     "output_type": "display_data"
    },
    {
     "data": {
      "text/plain": [
       "{'nodeId': 326, 'score': 0.42429571208194833}"
      ]
     },
     "metadata": {},
     "output_type": "display_data"
    },
    {
     "data": {
      "text/plain": [
       "{'nodeId': 327, 'score': 0.42429571208194833}"
      ]
     },
     "metadata": {},
     "output_type": "display_data"
    },
    {
     "data": {
      "text/plain": [
       "{'nodeId': 328, 'score': 0.42429571208194833}"
      ]
     },
     "metadata": {},
     "output_type": "display_data"
    },
    {
     "data": {
      "text/plain": [
       "{'nodeId': 329, 'score': 0.42429571208194833}"
      ]
     },
     "metadata": {},
     "output_type": "display_data"
    },
    {
     "data": {
      "text/plain": [
       "{'nodeId': 330, 'score': 0.42429571208194833}"
      ]
     },
     "metadata": {},
     "output_type": "display_data"
    },
    {
     "data": {
      "text/plain": [
       "{'nodeId': 331, 'score': 0.42429571208194833}"
      ]
     },
     "metadata": {},
     "output_type": "display_data"
    },
    {
     "data": {
      "text/plain": [
       "{'nodeId': 332, 'score': 0.42429571208194833}"
      ]
     },
     "metadata": {},
     "output_type": "display_data"
    },
    {
     "data": {
      "text/plain": [
       "{'nodeId': 333, 'score': 0.42429571208194833}"
      ]
     },
     "metadata": {},
     "output_type": "display_data"
    },
    {
     "data": {
      "text/plain": [
       "{'nodeId': 334, 'score': 0.42429571208194833}"
      ]
     },
     "metadata": {},
     "output_type": "display_data"
    },
    {
     "data": {
      "text/plain": [
       "{'nodeId': 335, 'score': 0.42429571208194833}"
      ]
     },
     "metadata": {},
     "output_type": "display_data"
    },
    {
     "data": {
      "text/plain": [
       "{'nodeId': 336, 'score': 0.42429571208194833}"
      ]
     },
     "metadata": {},
     "output_type": "display_data"
    },
    {
     "data": {
      "text/plain": [
       "{'nodeId': 337, 'score': 0.42429571208194833}"
      ]
     },
     "metadata": {},
     "output_type": "display_data"
    },
    {
     "data": {
      "text/plain": [
       "{'nodeId': 338, 'score': 0.42429571208194833}"
      ]
     },
     "metadata": {},
     "output_type": "display_data"
    },
    {
     "data": {
      "text/plain": [
       "{'nodeId': 339, 'score': 0.42429571208194833}"
      ]
     },
     "metadata": {},
     "output_type": "display_data"
    },
    {
     "data": {
      "text/plain": [
       "{'nodeId': 340, 'score': 0.42429571208194833}"
      ]
     },
     "metadata": {},
     "output_type": "display_data"
    },
    {
     "data": {
      "text/plain": [
       "{'nodeId': 341, 'score': 0.5401252265932273}"
      ]
     },
     "metadata": {},
     "output_type": "display_data"
    },
    {
     "data": {
      "text/plain": [
       "{'nodeId': 342, 'score': 0.5401252265932273}"
      ]
     },
     "metadata": {},
     "output_type": "display_data"
    },
    {
     "data": {
      "text/plain": [
       "{'nodeId': 343, 'score': 0.5401252265932273}"
      ]
     },
     "metadata": {},
     "output_type": "display_data"
    },
    {
     "data": {
      "text/plain": [
       "{'nodeId': 344, 'score': 0.5401252265932273}"
      ]
     },
     "metadata": {},
     "output_type": "display_data"
    },
    {
     "data": {
      "text/plain": [
       "{'nodeId': 345, 'score': 0.5401252265932273}"
      ]
     },
     "metadata": {},
     "output_type": "display_data"
    },
    {
     "data": {
      "text/plain": [
       "{'nodeId': 346, 'score': 0.5401252265932273}"
      ]
     },
     "metadata": {},
     "output_type": "display_data"
    },
    {
     "data": {
      "text/plain": [
       "{'nodeId': 347, 'score': 0.5401252265932273}"
      ]
     },
     "metadata": {},
     "output_type": "display_data"
    },
    {
     "data": {
      "text/plain": [
       "{'nodeId': 348, 'score': 0.5401252265932273}"
      ]
     },
     "metadata": {},
     "output_type": "display_data"
    },
    {
     "data": {
      "text/plain": [
       "{'nodeId': 349, 'score': 0.5401252265932273}"
      ]
     },
     "metadata": {},
     "output_type": "display_data"
    },
    {
     "data": {
      "text/plain": [
       "{'nodeId': 350, 'score': 0.5401252265932273}"
      ]
     },
     "metadata": {},
     "output_type": "display_data"
    },
    {
     "data": {
      "text/plain": [
       "{'nodeId': 351, 'score': 0.5401252265932273}"
      ]
     },
     "metadata": {},
     "output_type": "display_data"
    },
    {
     "data": {
      "text/plain": [
       "{'nodeId': 352, 'score': 0.5401252265932273}"
      ]
     },
     "metadata": {},
     "output_type": "display_data"
    },
    {
     "data": {
      "text/plain": [
       "{'nodeId': 353, 'score': 0.5401252265932273}"
      ]
     },
     "metadata": {},
     "output_type": "display_data"
    },
    {
     "data": {
      "text/plain": [
       "{'nodeId': 354, 'score': 0.5401252265932273}"
      ]
     },
     "metadata": {},
     "output_type": "display_data"
    },
    {
     "data": {
      "text/plain": [
       "{'nodeId': 355, 'score': 0.5401252265932273}"
      ]
     },
     "metadata": {},
     "output_type": "display_data"
    },
    {
     "data": {
      "text/plain": [
       "{'nodeId': 356, 'score': 0.5401252265932273}"
      ]
     },
     "metadata": {},
     "output_type": "display_data"
    },
    {
     "data": {
      "text/plain": [
       "{'nodeId': 357, 'score': 0.5401252265932273}"
      ]
     },
     "metadata": {},
     "output_type": "display_data"
    },
    {
     "data": {
      "text/plain": [
       "{'nodeId': 358, 'score': 0.5401252265932273}"
      ]
     },
     "metadata": {},
     "output_type": "display_data"
    },
    {
     "data": {
      "text/plain": [
       "{'nodeId': 359, 'score': 0.5401252265932273}"
      ]
     },
     "metadata": {},
     "output_type": "display_data"
    },
    {
     "data": {
      "text/plain": [
       "{'nodeId': 360, 'score': 0.5401252265932273}"
      ]
     },
     "metadata": {},
     "output_type": "display_data"
    },
    {
     "data": {
      "text/plain": [
       "{'nodeId': 361, 'score': 0.5401252265932273}"
      ]
     },
     "metadata": {},
     "output_type": "display_data"
    },
    {
     "data": {
      "text/plain": [
       "{'nodeId': 362, 'score': 0.5401252265932273}"
      ]
     },
     "metadata": {},
     "output_type": "display_data"
    },
    {
     "data": {
      "text/plain": [
       "{'nodeId': 363, 'score': 0.5401252265932273}"
      ]
     },
     "metadata": {},
     "output_type": "display_data"
    },
    {
     "data": {
      "text/plain": [
       "{'nodeId': 364, 'score': 0.5401252265932273}"
      ]
     },
     "metadata": {},
     "output_type": "display_data"
    },
    {
     "data": {
      "text/plain": [
       "{'nodeId': 365, 'score': 0.5401252265932273}"
      ]
     },
     "metadata": {},
     "output_type": "display_data"
    },
    {
     "data": {
      "text/plain": [
       "{'nodeId': 366, 'score': 0.5401252265932273}"
      ]
     },
     "metadata": {},
     "output_type": "display_data"
    },
    {
     "data": {
      "text/plain": [
       "{'nodeId': 367, 'score': 0.5401252265932273}"
      ]
     },
     "metadata": {},
     "output_type": "display_data"
    },
    {
     "data": {
      "text/plain": [
       "{'nodeId': 368, 'score': 0.5401252265932273}"
      ]
     },
     "metadata": {},
     "output_type": "display_data"
    },
    {
     "data": {
      "text/plain": [
       "{'nodeId': 369, 'score': 0.5401252265932273}"
      ]
     },
     "metadata": {},
     "output_type": "display_data"
    },
    {
     "data": {
      "text/plain": [
       "{'nodeId': 370, 'score': 0.5401252265932273}"
      ]
     },
     "metadata": {},
     "output_type": "display_data"
    },
    {
     "data": {
      "text/plain": [
       "{'nodeId': 371, 'score': 0.4410328989033587}"
      ]
     },
     "metadata": {},
     "output_type": "display_data"
    },
    {
     "data": {
      "text/plain": [
       "{'nodeId': 372, 'score': 0.4410328989033587}"
      ]
     },
     "metadata": {},
     "output_type": "display_data"
    },
    {
     "data": {
      "text/plain": [
       "{'nodeId': 373, 'score': 0.4410328989033587}"
      ]
     },
     "metadata": {},
     "output_type": "display_data"
    },
    {
     "data": {
      "text/plain": [
       "{'nodeId': 374, 'score': 0.7539832299342379}"
      ]
     },
     "metadata": {},
     "output_type": "display_data"
    },
    {
     "data": {
      "text/plain": [
       "{'nodeId': 375, 'score': 0.4410328989033587}"
      ]
     },
     "metadata": {},
     "output_type": "display_data"
    },
    {
     "data": {
      "text/plain": [
       "{'nodeId': 376, 'score': 0.4410328989033587}"
      ]
     },
     "metadata": {},
     "output_type": "display_data"
    },
    {
     "data": {
      "text/plain": [
       "{'nodeId': 377, 'score': 0.4410328989033587}"
      ]
     },
     "metadata": {},
     "output_type": "display_data"
    },
    {
     "data": {
      "text/plain": [
       "{'nodeId': 378, 'score': 0.4410328989033587}"
      ]
     },
     "metadata": {},
     "output_type": "display_data"
    },
    {
     "data": {
      "text/plain": [
       "{'nodeId': 379, 'score': 0.4410328989033587}"
      ]
     },
     "metadata": {},
     "output_type": "display_data"
    },
    {
     "data": {
      "text/plain": [
       "{'nodeId': 380, 'score': 0.4410328989033587}"
      ]
     },
     "metadata": {},
     "output_type": "display_data"
    },
    {
     "data": {
      "text/plain": [
       "{'nodeId': 381, 'score': 0.4410328989033587}"
      ]
     },
     "metadata": {},
     "output_type": "display_data"
    },
    {
     "data": {
      "text/plain": [
       "{'nodeId': 382, 'score': 0.4410328989033587}"
      ]
     },
     "metadata": {},
     "output_type": "display_data"
    },
    {
     "data": {
      "text/plain": [
       "{'nodeId': 383, 'score': 0.4410328989033587}"
      ]
     },
     "metadata": {},
     "output_type": "display_data"
    },
    {
     "data": {
      "text/plain": [
       "{'nodeId': 384, 'score': 0.4410328989033587}"
      ]
     },
     "metadata": {},
     "output_type": "display_data"
    },
    {
     "data": {
      "text/plain": [
       "{'nodeId': 385, 'score': 0.4410328989033587}"
      ]
     },
     "metadata": {},
     "output_type": "display_data"
    },
    {
     "data": {
      "text/plain": [
       "{'nodeId': 386, 'score': 0.4410328989033587}"
      ]
     },
     "metadata": {},
     "output_type": "display_data"
    },
    {
     "data": {
      "text/plain": [
       "{'nodeId': 387, 'score': 0.4410328989033587}"
      ]
     },
     "metadata": {},
     "output_type": "display_data"
    },
    {
     "data": {
      "text/plain": [
       "{'nodeId': 388, 'score': 0.4410328989033587}"
      ]
     },
     "metadata": {},
     "output_type": "display_data"
    },
    {
     "data": {
      "text/plain": [
       "{'nodeId': 389, 'score': 0.4410328989033587}"
      ]
     },
     "metadata": {},
     "output_type": "display_data"
    },
    {
     "data": {
      "text/plain": [
       "{'nodeId': 390, 'score': 0.4410328989033587}"
      ]
     },
     "metadata": {},
     "output_type": "display_data"
    },
    {
     "data": {
      "text/plain": [
       "{'nodeId': 391, 'score': 0.4410328989033587}"
      ]
     },
     "metadata": {},
     "output_type": "display_data"
    },
    {
     "data": {
      "text/plain": [
       "{'nodeId': 392, 'score': 0.5152313408034387}"
      ]
     },
     "metadata": {},
     "output_type": "display_data"
    },
    {
     "data": {
      "text/plain": [
       "{'nodeId': 393, 'score': 0.5152313408034387}"
      ]
     },
     "metadata": {},
     "output_type": "display_data"
    },
    {
     "data": {
      "text/plain": [
       "{'nodeId': 394, 'score': 0.5152313408034387}"
      ]
     },
     "metadata": {},
     "output_type": "display_data"
    },
    {
     "data": {
      "text/plain": [
       "{'nodeId': 395, 'score': 0.5152313408034387}"
      ]
     },
     "metadata": {},
     "output_type": "display_data"
    },
    {
     "data": {
      "text/plain": [
       "{'nodeId': 396, 'score': 0.4796280917129479}"
      ]
     },
     "metadata": {},
     "output_type": "display_data"
    },
    {
     "data": {
      "text/plain": [
       "{'nodeId': 397, 'score': 0.4796280917129479}"
      ]
     },
     "metadata": {},
     "output_type": "display_data"
    },
    {
     "data": {
      "text/plain": [
       "{'nodeId': 398, 'score': 0.4796280917129479}"
      ]
     },
     "metadata": {},
     "output_type": "display_data"
    },
    {
     "data": {
      "text/plain": [
       "{'nodeId': 399, 'score': 0.4796280917129479}"
      ]
     },
     "metadata": {},
     "output_type": "display_data"
    },
    {
     "data": {
      "text/plain": [
       "{'nodeId': 400, 'score': 0.4796280917129479}"
      ]
     },
     "metadata": {},
     "output_type": "display_data"
    },
    {
     "data": {
      "text/plain": [
       "{'nodeId': 401, 'score': 0.4796280917129479}"
      ]
     },
     "metadata": {},
     "output_type": "display_data"
    },
    {
     "data": {
      "text/plain": [
       "{'nodeId': 402, 'score': 0.4796280917129479}"
      ]
     },
     "metadata": {},
     "output_type": "display_data"
    },
    {
     "data": {
      "text/plain": [
       "{'nodeId': 403, 'score': 0.4796280917129479}"
      ]
     },
     "metadata": {},
     "output_type": "display_data"
    },
    {
     "data": {
      "text/plain": [
       "{'nodeId': 404, 'score': 0.4796280917129479}"
      ]
     },
     "metadata": {},
     "output_type": "display_data"
    },
    {
     "data": {
      "text/plain": [
       "{'nodeId': 405, 'score': 0.4796280917129479}"
      ]
     },
     "metadata": {},
     "output_type": "display_data"
    },
    {
     "data": {
      "text/plain": [
       "{'nodeId': 406, 'score': 0.4796280917129479}"
      ]
     },
     "metadata": {},
     "output_type": "display_data"
    },
    {
     "data": {
      "text/plain": [
       "{'nodeId': 407, 'score': 0.4796280917129479}"
      ]
     },
     "metadata": {},
     "output_type": "display_data"
    },
    {
     "data": {
      "text/plain": [
       "{'nodeId': 408, 'score': 0.4796280917129479}"
      ]
     },
     "metadata": {},
     "output_type": "display_data"
    },
    {
     "data": {
      "text/plain": [
       "{'nodeId': 409, 'score': 0.4796280917129479}"
      ]
     },
     "metadata": {},
     "output_type": "display_data"
    },
    {
     "data": {
      "text/plain": [
       "{'nodeId': 410, 'score': 0.4796280917129479}"
      ]
     },
     "metadata": {},
     "output_type": "display_data"
    },
    {
     "data": {
      "text/plain": [
       "{'nodeId': 411, 'score': 0.4796280917129479}"
      ]
     },
     "metadata": {},
     "output_type": "display_data"
    },
    {
     "data": {
      "text/plain": [
       "{'nodeId': 412, 'score': 0.4796280917129479}"
      ]
     },
     "metadata": {},
     "output_type": "display_data"
    },
    {
     "data": {
      "text/plain": [
       "{'nodeId': 413, 'score': 0.4796280917129479}"
      ]
     },
     "metadata": {},
     "output_type": "display_data"
    },
    {
     "data": {
      "text/plain": [
       "{'nodeId': 414, 'score': 0.4796280917129479}"
      ]
     },
     "metadata": {},
     "output_type": "display_data"
    },
    {
     "data": {
      "text/plain": [
       "{'nodeId': 415, 'score': 0.4796280917129479}"
      ]
     },
     "metadata": {},
     "output_type": "display_data"
    },
    {
     "data": {
      "text/plain": [
       "{'nodeId': 416, 'score': 0.4796280917129479}"
      ]
     },
     "metadata": {},
     "output_type": "display_data"
    },
    {
     "data": {
      "text/plain": [
       "{'nodeId': 417, 'score': 0.4796280917129479}"
      ]
     },
     "metadata": {},
     "output_type": "display_data"
    },
    {
     "data": {
      "text/plain": [
       "{'nodeId': 418, 'score': 0.4796280917129479}"
      ]
     },
     "metadata": {},
     "output_type": "display_data"
    },
    {
     "data": {
      "text/plain": [
       "{'nodeId': 419, 'score': 0.4461309689679183}"
      ]
     },
     "metadata": {},
     "output_type": "display_data"
    },
    {
     "data": {
      "text/plain": [
       "{'nodeId': 420, 'score': 0.3670215406571514}"
      ]
     },
     "metadata": {},
     "output_type": "display_data"
    },
    {
     "data": {
      "text/plain": [
       "{'nodeId': 421, 'score': 0.3670215406571514}"
      ]
     },
     "metadata": {},
     "output_type": "display_data"
    },
    {
     "data": {
      "text/plain": [
       "{'nodeId': 422, 'score': 0.47833706774399615}"
      ]
     },
     "metadata": {},
     "output_type": "display_data"
    },
    {
     "data": {
      "text/plain": [
       "{'nodeId': 423, 'score': 0.47833706774399615}"
      ]
     },
     "metadata": {},
     "output_type": "display_data"
    },
    {
     "data": {
      "text/plain": [
       "{'nodeId': 424, 'score': 0.47833706774399615}"
      ]
     },
     "metadata": {},
     "output_type": "display_data"
    },
    {
     "data": {
      "text/plain": [
       "{'nodeId': 425, 'score': 0.47833706774399615}"
      ]
     },
     "metadata": {},
     "output_type": "display_data"
    },
    {
     "data": {
      "text/plain": [
       "{'nodeId': 426, 'score': 0.47833706774399615}"
      ]
     },
     "metadata": {},
     "output_type": "display_data"
    },
    {
     "data": {
      "text/plain": [
       "{'nodeId': 427, 'score': 0.47833706774399615}"
      ]
     },
     "metadata": {},
     "output_type": "display_data"
    },
    {
     "data": {
      "text/plain": [
       "{'nodeId': 428, 'score': 0.47833706774399615}"
      ]
     },
     "metadata": {},
     "output_type": "display_data"
    },
    {
     "data": {
      "text/plain": [
       "{'nodeId': 429, 'score': 0.47833706774399615}"
      ]
     },
     "metadata": {},
     "output_type": "display_data"
    },
    {
     "data": {
      "text/plain": [
       "{'nodeId': 430, 'score': 0.47833706774399615}"
      ]
     },
     "metadata": {},
     "output_type": "display_data"
    },
    {
     "data": {
      "text/plain": [
       "{'nodeId': 431, 'score': 0.47833706774399615}"
      ]
     },
     "metadata": {},
     "output_type": "display_data"
    },
    {
     "data": {
      "text/plain": [
       "{'nodeId': 432, 'score': 0.47833706774399615}"
      ]
     },
     "metadata": {},
     "output_type": "display_data"
    },
    {
     "data": {
      "text/plain": [
       "{'nodeId': 433, 'score': 0.47833706774399615}"
      ]
     },
     "metadata": {},
     "output_type": "display_data"
    },
    {
     "data": {
      "text/plain": [
       "{'nodeId': 434, 'score': 0.47833706774399615}"
      ]
     },
     "metadata": {},
     "output_type": "display_data"
    },
    {
     "data": {
      "text/plain": [
       "{'nodeId': 435, 'score': 0.47833706774399615}"
      ]
     },
     "metadata": {},
     "output_type": "display_data"
    },
    {
     "data": {
      "text/plain": [
       "{'nodeId': 436, 'score': 0.47833706774399615}"
      ]
     },
     "metadata": {},
     "output_type": "display_data"
    },
    {
     "data": {
      "text/plain": [
       "{'nodeId': 437, 'score': 0.47833706774399615}"
      ]
     },
     "metadata": {},
     "output_type": "display_data"
    },
    {
     "data": {
      "text/plain": [
       "{'nodeId': 438, 'score': 0.47833706774399615}"
      ]
     },
     "metadata": {},
     "output_type": "display_data"
    },
    {
     "data": {
      "text/plain": [
       "{'nodeId': 439, 'score': 0.47833706774399615}"
      ]
     },
     "metadata": {},
     "output_type": "display_data"
    },
    {
     "data": {
      "text/plain": [
       "{'nodeId': 440, 'score': 0.47833706774399615}"
      ]
     },
     "metadata": {},
     "output_type": "display_data"
    },
    {
     "data": {
      "text/plain": [
       "{'nodeId': 441, 'score': 0.47833706774399615}"
      ]
     },
     "metadata": {},
     "output_type": "display_data"
    },
    {
     "data": {
      "text/plain": [
       "{'nodeId': 442, 'score': 0.47833706774399615}"
      ]
     },
     "metadata": {},
     "output_type": "display_data"
    },
    {
     "data": {
      "text/plain": [
       "{'nodeId': 443, 'score': 0.47833706774399615}"
      ]
     },
     "metadata": {},
     "output_type": "display_data"
    },
    {
     "data": {
      "text/plain": [
       "{'nodeId': 444, 'score': 0.47833706774399615}"
      ]
     },
     "metadata": {},
     "output_type": "display_data"
    },
    {
     "data": {
      "text/plain": [
       "{'nodeId': 445, 'score': 0.47833706774399615}"
      ]
     },
     "metadata": {},
     "output_type": "display_data"
    },
    {
     "data": {
      "text/plain": [
       "{'nodeId': 446, 'score': 0.47833706774399615}"
      ]
     },
     "metadata": {},
     "output_type": "display_data"
    },
    {
     "data": {
      "text/plain": [
       "{'nodeId': 447, 'score': 0.4629503296455369}"
      ]
     },
     "metadata": {},
     "output_type": "display_data"
    },
    {
     "data": {
      "text/plain": [
       "{'nodeId': 448, 'score': 0.4629503296455369}"
      ]
     },
     "metadata": {},
     "output_type": "display_data"
    },
    {
     "data": {
      "text/plain": [
       "{'nodeId': 449, 'score': 0.4629503296455369}"
      ]
     },
     "metadata": {},
     "output_type": "display_data"
    },
    {
     "data": {
      "text/plain": [
       "{'nodeId': 450, 'score': 0.4629503296455369}"
      ]
     },
     "metadata": {},
     "output_type": "display_data"
    },
    {
     "data": {
      "text/plain": [
       "{'nodeId': 451, 'score': 0.4629503296455369}"
      ]
     },
     "metadata": {},
     "output_type": "display_data"
    },
    {
     "data": {
      "text/plain": [
       "{'nodeId': 452, 'score': 0.4629503296455369}"
      ]
     },
     "metadata": {},
     "output_type": "display_data"
    },
    {
     "data": {
      "text/plain": [
       "{'nodeId': 453, 'score': 0.4629503296455369}"
      ]
     },
     "metadata": {},
     "output_type": "display_data"
    },
    {
     "data": {
      "text/plain": [
       "{'nodeId': 454, 'score': 0.4629503296455369}"
      ]
     },
     "metadata": {},
     "output_type": "display_data"
    },
    {
     "data": {
      "text/plain": [
       "{'nodeId': 455, 'score': 0.4629503296455369}"
      ]
     },
     "metadata": {},
     "output_type": "display_data"
    },
    {
     "data": {
      "text/plain": [
       "{'nodeId': 456, 'score': 0.4629503296455369}"
      ]
     },
     "metadata": {},
     "output_type": "display_data"
    },
    {
     "data": {
      "text/plain": [
       "{'nodeId': 457, 'score': 0.4629503296455369}"
      ]
     },
     "metadata": {},
     "output_type": "display_data"
    },
    {
     "data": {
      "text/plain": [
       "{'nodeId': 458, 'score': 0.4629503296455369}"
      ]
     },
     "metadata": {},
     "output_type": "display_data"
    },
    {
     "data": {
      "text/plain": [
       "{'nodeId': 459, 'score': 0.4629503296455369}"
      ]
     },
     "metadata": {},
     "output_type": "display_data"
    },
    {
     "data": {
      "text/plain": [
       "{'nodeId': 460, 'score': 0.4629503296455369}"
      ]
     },
     "metadata": {},
     "output_type": "display_data"
    },
    {
     "data": {
      "text/plain": [
       "{'nodeId': 461, 'score': 0.4629503296455369}"
      ]
     },
     "metadata": {},
     "output_type": "display_data"
    },
    {
     "data": {
      "text/plain": [
       "{'nodeId': 462, 'score': 0.4629503296455369}"
      ]
     },
     "metadata": {},
     "output_type": "display_data"
    },
    {
     "data": {
      "text/plain": [
       "{'nodeId': 463, 'score': 0.4629503296455369}"
      ]
     },
     "metadata": {},
     "output_type": "display_data"
    },
    {
     "data": {
      "text/plain": [
       "{'nodeId': 464, 'score': 0.4629503296455369}"
      ]
     },
     "metadata": {},
     "output_type": "display_data"
    },
    {
     "data": {
      "text/plain": [
       "{'nodeId': 465, 'score': 0.4629503296455369}"
      ]
     },
     "metadata": {},
     "output_type": "display_data"
    },
    {
     "data": {
      "text/plain": [
       "{'nodeId': 466, 'score': 0.4629503296455369}"
      ]
     },
     "metadata": {},
     "output_type": "display_data"
    },
    {
     "data": {
      "text/plain": [
       "{'nodeId': 467, 'score': 0.4629503296455369}"
      ]
     },
     "metadata": {},
     "output_type": "display_data"
    },
    {
     "data": {
      "text/plain": [
       "{'nodeId': 468, 'score': 0.4629503296455369}"
      ]
     },
     "metadata": {},
     "output_type": "display_data"
    },
    {
     "data": {
      "text/plain": [
       "{'nodeId': 469, 'score': 0.4545954466215336}"
      ]
     },
     "metadata": {},
     "output_type": "display_data"
    },
    {
     "data": {
      "text/plain": [
       "{'nodeId': 470, 'score': 0.15000000000000002}"
      ]
     },
     "metadata": {},
     "output_type": "display_data"
    },
    {
     "data": {
      "text/plain": [
       "{'nodeId': 471, 'score': 0.15000000000000002}"
      ]
     },
     "metadata": {},
     "output_type": "display_data"
    },
    {
     "data": {
      "text/plain": [
       "{'nodeId': 472, 'score': 0.15000000000000002}"
      ]
     },
     "metadata": {},
     "output_type": "display_data"
    },
    {
     "data": {
      "text/plain": [
       "{'nodeId': 473, 'score': 0.15000000000000002}"
      ]
     },
     "metadata": {},
     "output_type": "display_data"
    },
    {
     "data": {
      "text/plain": [
       "{'nodeId': 474, 'score': 0.15000000000000002}"
      ]
     },
     "metadata": {},
     "output_type": "display_data"
    },
    {
     "data": {
      "text/plain": [
       "{'nodeId': 475, 'score': 0.15000000000000002}"
      ]
     },
     "metadata": {},
     "output_type": "display_data"
    },
    {
     "data": {
      "text/plain": [
       "{'nodeId': 476, 'score': 0.15000000000000002}"
      ]
     },
     "metadata": {},
     "output_type": "display_data"
    },
    {
     "data": {
      "text/plain": [
       "{'nodeId': 477, 'score': 0.15000000000000002}"
      ]
     },
     "metadata": {},
     "output_type": "display_data"
    },
    {
     "data": {
      "text/plain": [
       "{'nodeId': 478, 'score': 0.15000000000000002}"
      ]
     },
     "metadata": {},
     "output_type": "display_data"
    },
    {
     "data": {
      "text/plain": [
       "{'nodeId': 479, 'score': 0.15000000000000002}"
      ]
     },
     "metadata": {},
     "output_type": "display_data"
    },
    {
     "data": {
      "text/plain": [
       "{'nodeId': 480, 'score': 0.15000000000000002}"
      ]
     },
     "metadata": {},
     "output_type": "display_data"
    },
    {
     "data": {
      "text/plain": [
       "{'nodeId': 481, 'score': 0.15000000000000002}"
      ]
     },
     "metadata": {},
     "output_type": "display_data"
    },
    {
     "data": {
      "text/plain": [
       "{'nodeId': 482, 'score': 0.15000000000000002}"
      ]
     },
     "metadata": {},
     "output_type": "display_data"
    },
    {
     "data": {
      "text/plain": [
       "{'nodeId': 483, 'score': 0.15000000000000002}"
      ]
     },
     "metadata": {},
     "output_type": "display_data"
    },
    {
     "data": {
      "text/plain": [
       "{'nodeId': 484, 'score': 0.15000000000000002}"
      ]
     },
     "metadata": {},
     "output_type": "display_data"
    },
    {
     "data": {
      "text/plain": [
       "{'nodeId': 485, 'score': 0.15000000000000002}"
      ]
     },
     "metadata": {},
     "output_type": "display_data"
    },
    {
     "data": {
      "text/plain": [
       "{'nodeId': 486, 'score': 0.15000000000000002}"
      ]
     },
     "metadata": {},
     "output_type": "display_data"
    },
    {
     "data": {
      "text/plain": [
       "{'nodeId': 487, 'score': 0.15000000000000002}"
      ]
     },
     "metadata": {},
     "output_type": "display_data"
    },
    {
     "data": {
      "text/plain": [
       "{'nodeId': 488, 'score': 0.15000000000000002}"
      ]
     },
     "metadata": {},
     "output_type": "display_data"
    },
    {
     "data": {
      "text/plain": [
       "{'nodeId': 489, 'score': 0.15000000000000002}"
      ]
     },
     "metadata": {},
     "output_type": "display_data"
    },
    {
     "data": {
      "text/plain": [
       "{'nodeId': 490, 'score': 0.15000000000000002}"
      ]
     },
     "metadata": {},
     "output_type": "display_data"
    },
    {
     "data": {
      "text/plain": [
       "{'nodeId': 491, 'score': 0.15000000000000002}"
      ]
     },
     "metadata": {},
     "output_type": "display_data"
    },
    {
     "data": {
      "text/plain": [
       "{'nodeId': 492, 'score': 0.15000000000000002}"
      ]
     },
     "metadata": {},
     "output_type": "display_data"
    },
    {
     "data": {
      "text/plain": [
       "{'nodeId': 493, 'score': 0.15000000000000002}"
      ]
     },
     "metadata": {},
     "output_type": "display_data"
    },
    {
     "data": {
      "text/plain": [
       "{'nodeId': 494, 'score': 0.15000000000000002}"
      ]
     },
     "metadata": {},
     "output_type": "display_data"
    },
    {
     "data": {
      "text/plain": [
       "{'nodeId': 495, 'score': 0.15000000000000002}"
      ]
     },
     "metadata": {},
     "output_type": "display_data"
    },
    {
     "data": {
      "text/plain": [
       "{'nodeId': 496, 'score': 0.15000000000000002}"
      ]
     },
     "metadata": {},
     "output_type": "display_data"
    },
    {
     "data": {
      "text/plain": [
       "{'nodeId': 497, 'score': 0.15000000000000002}"
      ]
     },
     "metadata": {},
     "output_type": "display_data"
    },
    {
     "data": {
      "text/plain": [
       "{'nodeId': 498, 'score': 0.15000000000000002}"
      ]
     },
     "metadata": {},
     "output_type": "display_data"
    },
    {
     "data": {
      "text/plain": [
       "{'nodeId': 499, 'score': 0.15000000000000002}"
      ]
     },
     "metadata": {},
     "output_type": "display_data"
    },
    {
     "data": {
      "text/plain": [
       "{'nodeId': 500, 'score': 0.15000000000000002}"
      ]
     },
     "metadata": {},
     "output_type": "display_data"
    },
    {
     "data": {
      "text/plain": [
       "{'nodeId': 501, 'score': 0.15000000000000002}"
      ]
     },
     "metadata": {},
     "output_type": "display_data"
    },
    {
     "data": {
      "text/plain": [
       "{'nodeId': 502, 'score': 0.15000000000000002}"
      ]
     },
     "metadata": {},
     "output_type": "display_data"
    },
    {
     "data": {
      "text/plain": [
       "{'nodeId': 503, 'score': 0.15000000000000002}"
      ]
     },
     "metadata": {},
     "output_type": "display_data"
    },
    {
     "data": {
      "text/plain": [
       "{'nodeId': 504, 'score': 0.15000000000000002}"
      ]
     },
     "metadata": {},
     "output_type": "display_data"
    },
    {
     "data": {
      "text/plain": [
       "{'nodeId': 505, 'score': 0.15000000000000002}"
      ]
     },
     "metadata": {},
     "output_type": "display_data"
    },
    {
     "data": {
      "text/plain": [
       "{'nodeId': 506, 'score': 0.15000000000000002}"
      ]
     },
     "metadata": {},
     "output_type": "display_data"
    },
    {
     "data": {
      "text/plain": [
       "{'nodeId': 507, 'score': 0.15000000000000002}"
      ]
     },
     "metadata": {},
     "output_type": "display_data"
    },
    {
     "data": {
      "text/plain": [
       "{'nodeId': 508, 'score': 0.15000000000000002}"
      ]
     },
     "metadata": {},
     "output_type": "display_data"
    },
    {
     "data": {
      "text/plain": [
       "{'nodeId': 509, 'score': 0.15000000000000002}"
      ]
     },
     "metadata": {},
     "output_type": "display_data"
    },
    {
     "data": {
      "text/plain": [
       "{'nodeId': 510, 'score': 0.15000000000000002}"
      ]
     },
     "metadata": {},
     "output_type": "display_data"
    },
    {
     "data": {
      "text/plain": [
       "{'nodeId': 511, 'score': 0.15000000000000002}"
      ]
     },
     "metadata": {},
     "output_type": "display_data"
    },
    {
     "data": {
      "text/plain": [
       "{'nodeId': 512, 'score': 0.15000000000000002}"
      ]
     },
     "metadata": {},
     "output_type": "display_data"
    },
    {
     "data": {
      "text/plain": [
       "{'nodeId': 513, 'score': 0.15000000000000002}"
      ]
     },
     "metadata": {},
     "output_type": "display_data"
    },
    {
     "data": {
      "text/plain": [
       "{'nodeId': 514, 'score': 0.15000000000000002}"
      ]
     },
     "metadata": {},
     "output_type": "display_data"
    },
    {
     "data": {
      "text/plain": [
       "{'nodeId': 515, 'score': 0.15000000000000002}"
      ]
     },
     "metadata": {},
     "output_type": "display_data"
    },
    {
     "data": {
      "text/plain": [
       "{'nodeId': 516, 'score': 0.15000000000000002}"
      ]
     },
     "metadata": {},
     "output_type": "display_data"
    },
    {
     "data": {
      "text/plain": [
       "{'nodeId': 517, 'score': 0.15000000000000002}"
      ]
     },
     "metadata": {},
     "output_type": "display_data"
    },
    {
     "data": {
      "text/plain": [
       "{'nodeId': 518, 'score': 0.15000000000000002}"
      ]
     },
     "metadata": {},
     "output_type": "display_data"
    },
    {
     "data": {
      "text/plain": [
       "{'nodeId': 519, 'score': 0.15000000000000002}"
      ]
     },
     "metadata": {},
     "output_type": "display_data"
    },
    {
     "data": {
      "text/plain": [
       "{'nodeId': 520, 'score': 0.15000000000000002}"
      ]
     },
     "metadata": {},
     "output_type": "display_data"
    },
    {
     "data": {
      "text/plain": [
       "{'nodeId': 521, 'score': 0.15000000000000002}"
      ]
     },
     "metadata": {},
     "output_type": "display_data"
    },
    {
     "data": {
      "text/plain": [
       "{'nodeId': 522, 'score': 0.15000000000000002}"
      ]
     },
     "metadata": {},
     "output_type": "display_data"
    },
    {
     "data": {
      "text/plain": [
       "{'nodeId': 523, 'score': 0.15000000000000002}"
      ]
     },
     "metadata": {},
     "output_type": "display_data"
    },
    {
     "data": {
      "text/plain": [
       "{'nodeId': 524, 'score': 0.15000000000000002}"
      ]
     },
     "metadata": {},
     "output_type": "display_data"
    },
    {
     "data": {
      "text/plain": [
       "{'nodeId': 525, 'score': 0.15000000000000002}"
      ]
     },
     "metadata": {},
     "output_type": "display_data"
    },
    {
     "data": {
      "text/plain": [
       "{'nodeId': 526, 'score': 0.15000000000000002}"
      ]
     },
     "metadata": {},
     "output_type": "display_data"
    },
    {
     "data": {
      "text/plain": [
       "{'nodeId': 527, 'score': 0.15000000000000002}"
      ]
     },
     "metadata": {},
     "output_type": "display_data"
    },
    {
     "data": {
      "text/plain": [
       "{'nodeId': 528, 'score': 0.15000000000000002}"
      ]
     },
     "metadata": {},
     "output_type": "display_data"
    },
    {
     "data": {
      "text/plain": [
       "{'nodeId': 529, 'score': 0.15000000000000002}"
      ]
     },
     "metadata": {},
     "output_type": "display_data"
    },
    {
     "data": {
      "text/plain": [
       "{'nodeId': 530, 'score': 0.15000000000000002}"
      ]
     },
     "metadata": {},
     "output_type": "display_data"
    },
    {
     "data": {
      "text/plain": [
       "{'nodeId': 531, 'score': 0.15000000000000002}"
      ]
     },
     "metadata": {},
     "output_type": "display_data"
    },
    {
     "data": {
      "text/plain": [
       "{'nodeId': 532, 'score': 0.15000000000000002}"
      ]
     },
     "metadata": {},
     "output_type": "display_data"
    },
    {
     "data": {
      "text/plain": [
       "{'nodeId': 533, 'score': 0.15000000000000002}"
      ]
     },
     "metadata": {},
     "output_type": "display_data"
    },
    {
     "data": {
      "text/plain": [
       "{'nodeId': 534, 'score': 0.15000000000000002}"
      ]
     },
     "metadata": {},
     "output_type": "display_data"
    },
    {
     "data": {
      "text/plain": [
       "{'nodeId': 535, 'score': 0.15000000000000002}"
      ]
     },
     "metadata": {},
     "output_type": "display_data"
    },
    {
     "data": {
      "text/plain": [
       "{'nodeId': 536, 'score': 0.15000000000000002}"
      ]
     },
     "metadata": {},
     "output_type": "display_data"
    },
    {
     "data": {
      "text/plain": [
       "{'nodeId': 537, 'score': 0.15000000000000002}"
      ]
     },
     "metadata": {},
     "output_type": "display_data"
    },
    {
     "data": {
      "text/plain": [
       "{'nodeId': 538, 'score': 0.15000000000000002}"
      ]
     },
     "metadata": {},
     "output_type": "display_data"
    },
    {
     "data": {
      "text/plain": [
       "{'nodeId': 539, 'score': 0.15000000000000002}"
      ]
     },
     "metadata": {},
     "output_type": "display_data"
    },
    {
     "data": {
      "text/plain": [
       "{'nodeId': 540, 'score': 0.15000000000000002}"
      ]
     },
     "metadata": {},
     "output_type": "display_data"
    },
    {
     "data": {
      "text/plain": [
       "{'nodeId': 541, 'score': 0.15000000000000002}"
      ]
     },
     "metadata": {},
     "output_type": "display_data"
    },
    {
     "data": {
      "text/plain": [
       "{'nodeId': 542, 'score': 0.15000000000000002}"
      ]
     },
     "metadata": {},
     "output_type": "display_data"
    },
    {
     "data": {
      "text/plain": [
       "{'nodeId': 543, 'score': 0.15000000000000002}"
      ]
     },
     "metadata": {},
     "output_type": "display_data"
    },
    {
     "data": {
      "text/plain": [
       "{'nodeId': 544, 'score': 0.15000000000000002}"
      ]
     },
     "metadata": {},
     "output_type": "display_data"
    },
    {
     "data": {
      "text/plain": [
       "{'nodeId': 545, 'score': 0.15000000000000002}"
      ]
     },
     "metadata": {},
     "output_type": "display_data"
    },
    {
     "data": {
      "text/plain": [
       "{'nodeId': 546, 'score': 0.15000000000000002}"
      ]
     },
     "metadata": {},
     "output_type": "display_data"
    },
    {
     "data": {
      "text/plain": [
       "{'nodeId': 547, 'score': 0.15000000000000002}"
      ]
     },
     "metadata": {},
     "output_type": "display_data"
    },
    {
     "data": {
      "text/plain": [
       "{'nodeId': 548, 'score': 0.15000000000000002}"
      ]
     },
     "metadata": {},
     "output_type": "display_data"
    },
    {
     "data": {
      "text/plain": [
       "{'nodeId': 549, 'score': 0.15000000000000002}"
      ]
     },
     "metadata": {},
     "output_type": "display_data"
    },
    {
     "data": {
      "text/plain": [
       "{'nodeId': 550, 'score': 0.15000000000000002}"
      ]
     },
     "metadata": {},
     "output_type": "display_data"
    },
    {
     "data": {
      "text/plain": [
       "{'nodeId': 551, 'score': 0.15000000000000002}"
      ]
     },
     "metadata": {},
     "output_type": "display_data"
    },
    {
     "data": {
      "text/plain": [
       "{'nodeId': 552, 'score': 0.15000000000000002}"
      ]
     },
     "metadata": {},
     "output_type": "display_data"
    },
    {
     "data": {
      "text/plain": [
       "{'nodeId': 553, 'score': 0.15000000000000002}"
      ]
     },
     "metadata": {},
     "output_type": "display_data"
    },
    {
     "data": {
      "text/plain": [
       "{'nodeId': 554, 'score': 0.15000000000000002}"
      ]
     },
     "metadata": {},
     "output_type": "display_data"
    },
    {
     "data": {
      "text/plain": [
       "{'nodeId': 555, 'score': 0.15000000000000002}"
      ]
     },
     "metadata": {},
     "output_type": "display_data"
    },
    {
     "data": {
      "text/plain": [
       "{'nodeId': 556, 'score': 0.15000000000000002}"
      ]
     },
     "metadata": {},
     "output_type": "display_data"
    },
    {
     "data": {
      "text/plain": [
       "{'nodeId': 557, 'score': 0.15000000000000002}"
      ]
     },
     "metadata": {},
     "output_type": "display_data"
    },
    {
     "data": {
      "text/plain": [
       "{'nodeId': 558, 'score': 0.15000000000000002}"
      ]
     },
     "metadata": {},
     "output_type": "display_data"
    },
    {
     "data": {
      "text/plain": [
       "{'nodeId': 559, 'score': 0.15000000000000002}"
      ]
     },
     "metadata": {},
     "output_type": "display_data"
    },
    {
     "data": {
      "text/plain": [
       "{'nodeId': 560, 'score': 0.15000000000000002}"
      ]
     },
     "metadata": {},
     "output_type": "display_data"
    },
    {
     "data": {
      "text/plain": [
       "{'nodeId': 561, 'score': 0.15000000000000002}"
      ]
     },
     "metadata": {},
     "output_type": "display_data"
    },
    {
     "data": {
      "text/plain": [
       "{'nodeId': 562, 'score': 0.15000000000000002}"
      ]
     },
     "metadata": {},
     "output_type": "display_data"
    },
    {
     "data": {
      "text/plain": [
       "{'nodeId': 563, 'score': 0.15000000000000002}"
      ]
     },
     "metadata": {},
     "output_type": "display_data"
    },
    {
     "data": {
      "text/plain": [
       "{'nodeId': 564, 'score': 0.15000000000000002}"
      ]
     },
     "metadata": {},
     "output_type": "display_data"
    },
    {
     "data": {
      "text/plain": [
       "{'nodeId': 565, 'score': 0.15000000000000002}"
      ]
     },
     "metadata": {},
     "output_type": "display_data"
    },
    {
     "data": {
      "text/plain": [
       "{'nodeId': 566, 'score': 0.15000000000000002}"
      ]
     },
     "metadata": {},
     "output_type": "display_data"
    },
    {
     "data": {
      "text/plain": [
       "{'nodeId': 567, 'score': 0.15000000000000002}"
      ]
     },
     "metadata": {},
     "output_type": "display_data"
    },
    {
     "data": {
      "text/plain": [
       "{'nodeId': 568, 'score': 0.15000000000000002}"
      ]
     },
     "metadata": {},
     "output_type": "display_data"
    },
    {
     "data": {
      "text/plain": [
       "{'nodeId': 569, 'score': 0.15000000000000002}"
      ]
     },
     "metadata": {},
     "output_type": "display_data"
    },
    {
     "data": {
      "text/plain": [
       "{'nodeId': 570, 'score': 0.15000000000000002}"
      ]
     },
     "metadata": {},
     "output_type": "display_data"
    },
    {
     "data": {
      "text/plain": [
       "{'nodeId': 571, 'score': 0.15000000000000002}"
      ]
     },
     "metadata": {},
     "output_type": "display_data"
    },
    {
     "data": {
      "text/plain": [
       "{'nodeId': 572, 'score': 0.15000000000000002}"
      ]
     },
     "metadata": {},
     "output_type": "display_data"
    },
    {
     "data": {
      "text/plain": [
       "{'nodeId': 573, 'score': 0.15000000000000002}"
      ]
     },
     "metadata": {},
     "output_type": "display_data"
    },
    {
     "data": {
      "text/plain": [
       "{'nodeId': 574, 'score': 0.15000000000000002}"
      ]
     },
     "metadata": {},
     "output_type": "display_data"
    },
    {
     "data": {
      "text/plain": [
       "{'nodeId': 575, 'score': 0.15000000000000002}"
      ]
     },
     "metadata": {},
     "output_type": "display_data"
    },
    {
     "data": {
      "text/plain": [
       "{'nodeId': 576, 'score': 0.15000000000000002}"
      ]
     },
     "metadata": {},
     "output_type": "display_data"
    },
    {
     "data": {
      "text/plain": [
       "{'nodeId': 577, 'score': 0.15000000000000002}"
      ]
     },
     "metadata": {},
     "output_type": "display_data"
    },
    {
     "data": {
      "text/plain": [
       "{'nodeId': 578, 'score': 0.15000000000000002}"
      ]
     },
     "metadata": {},
     "output_type": "display_data"
    },
    {
     "data": {
      "text/plain": [
       "{'nodeId': 579, 'score': 0.15000000000000002}"
      ]
     },
     "metadata": {},
     "output_type": "display_data"
    },
    {
     "data": {
      "text/plain": [
       "{'nodeId': 580, 'score': 0.15000000000000002}"
      ]
     },
     "metadata": {},
     "output_type": "display_data"
    },
    {
     "data": {
      "text/plain": [
       "{'nodeId': 581, 'score': 0.15000000000000002}"
      ]
     },
     "metadata": {},
     "output_type": "display_data"
    },
    {
     "data": {
      "text/plain": [
       "{'nodeId': 582, 'score': 0.15000000000000002}"
      ]
     },
     "metadata": {},
     "output_type": "display_data"
    },
    {
     "data": {
      "text/plain": [
       "{'nodeId': 583, 'score': 0.15000000000000002}"
      ]
     },
     "metadata": {},
     "output_type": "display_data"
    },
    {
     "data": {
      "text/plain": [
       "{'nodeId': 584, 'score': 0.15000000000000002}"
      ]
     },
     "metadata": {},
     "output_type": "display_data"
    },
    {
     "data": {
      "text/plain": [
       "{'nodeId': 585, 'score': 0.15000000000000002}"
      ]
     },
     "metadata": {},
     "output_type": "display_data"
    },
    {
     "data": {
      "text/plain": [
       "{'nodeId': 586, 'score': 0.15000000000000002}"
      ]
     },
     "metadata": {},
     "output_type": "display_data"
    },
    {
     "data": {
      "text/plain": [
       "{'nodeId': 587, 'score': 0.15000000000000002}"
      ]
     },
     "metadata": {},
     "output_type": "display_data"
    },
    {
     "data": {
      "text/plain": [
       "{'nodeId': 588, 'score': 0.15000000000000002}"
      ]
     },
     "metadata": {},
     "output_type": "display_data"
    },
    {
     "data": {
      "text/plain": [
       "{'nodeId': 589, 'score': 0.15000000000000002}"
      ]
     },
     "metadata": {},
     "output_type": "display_data"
    },
    {
     "data": {
      "text/plain": [
       "{'nodeId': 590, 'score': 0.15000000000000002}"
      ]
     },
     "metadata": {},
     "output_type": "display_data"
    },
    {
     "data": {
      "text/plain": [
       "{'nodeId': 591, 'score': 0.15000000000000002}"
      ]
     },
     "metadata": {},
     "output_type": "display_data"
    },
    {
     "data": {
      "text/plain": [
       "{'nodeId': 592, 'score': 0.15000000000000002}"
      ]
     },
     "metadata": {},
     "output_type": "display_data"
    },
    {
     "data": {
      "text/plain": [
       "{'nodeId': 593, 'score': 0.15000000000000002}"
      ]
     },
     "metadata": {},
     "output_type": "display_data"
    },
    {
     "data": {
      "text/plain": [
       "{'nodeId': 594, 'score': 0.15000000000000002}"
      ]
     },
     "metadata": {},
     "output_type": "display_data"
    },
    {
     "data": {
      "text/plain": [
       "{'nodeId': 595, 'score': 0.15000000000000002}"
      ]
     },
     "metadata": {},
     "output_type": "display_data"
    }
   ],
   "source": [
    "with driver.session() as session:\n",
    "    result = session.run(\n",
    "        \"CALL gds.pageRank.stream($graphName, $algoConfig)\",\n",
    "        graphName=graphName,\n",
    "        algoConfig=algoConfig,\n",
    "    )\n",
    "    for record in result:\n",
    "        display(record.data())"
   ]
  },
  {
   "cell_type": "markdown",
   "metadata": {},
   "source": [
    "### Using `gds.util.asNode` to get more meaningful results"
   ]
  },
  {
   "cell_type": "code",
   "execution_count": 8,
   "metadata": {},
   "outputs": [
    {
     "name": "stdout",
     "output_type": "stream",
     "text": [
      "1 0.15000000000000002\n",
      "31 1.2104374413844197\n",
      "32 0.9438581566326321\n",
      "33 0.4038160189986229\n",
      "34 0.6520907054888087\n",
      "35 1.733900258783251\n",
      "36 1.970460276398808\n",
      "37 0.4038160189986229\n",
      "38 2.8126600407063966\n",
      "39 0.9132519175764172\n",
      "40 9.010058941878375\n",
      "41 11.484363865479828\n",
      "42 10.334434717893597\n",
      "43 3.51371067268774\n",
      "44 4.429150780197232\n",
      "45 12.88761965315789\n",
      "46 10.417098037712279\n",
      "47 1.8435446158517153\n",
      "48 14.709171251580118\n",
      "49 2.159772182954475\n",
      "50 9.270769257098436\n",
      "51 5.6819858958479035\n",
      "52 10.651387471333145\n",
      "53 4.655745753366499\n",
      "54 3.9165744459256526\n",
      "55 10.488682551681997\n",
      "56 7.839183766581118\n",
      "57 7.951555732078848\n",
      "58 1.4411550694378095\n",
      "59 9.722989419475192\n",
      "60 13.774939332786015\n",
      "61 10.313357470557094\n",
      "62 2.1540201521478597\n",
      "63 10.885534165613354\n",
      "64 1.0494503078283743\n",
      "65 5.135402509756387\n",
      "66 1.3217056492343546\n",
      "67 11.624030757509173\n",
      "68 11.090736489370467\n",
      "69 1.0808968721888963\n",
      "80 0.4038160189986229\n",
      "81 0.4038160189986229\n",
      "82 0.4038160189986229\n",
      "83 0.4038160189986229\n",
      "84 0.664977219211869\n",
      "85 0.4038160189986229\n",
      "86 2.510344079695641\n",
      "87 0.4038160189986229\n",
      "88 0.4038160189986229\n",
      "89 0.4038160189986229\n",
      "90 0.6948489157250152\n",
      "91 1.934558198181912\n",
      "92 0.4038160189986229\n",
      "93 1.6435252923518417\n",
      "94 0.4038160189986229\n",
      "95 0.4038160189986229\n",
      "96 0.4038160189986229\n",
      "97 1.6435252923518417\n",
      "98 0.9923651302466169\n",
      "99 0.39827468174044045\n",
      "100 0.9566214176360518\n",
      "101 0.7112250026781113\n",
      "102 0.6564160814741626\n",
      "103 0.6564160814741626\n",
      "104 0.7112250026781113\n",
      "105 0.39827468174044045\n",
      "106 0.6564160814741626\n",
      "107 0.39827468174044045\n",
      "108 0.9383167983964087\n",
      "109 0.7266117537394164\n",
      "110 0.39827468174044045\n",
      "111 0.39827468174044045\n",
      "112 0.6594358946196737\n",
      "113 0.39827468174044045\n",
      "114 0.39827468174044045\n",
      "115 0.39827468174044045\n",
      "116 0.39827468174044045\n",
      "117 0.39827468174044045\n",
      "118 0.9671018901746721\n",
      "119 0.39827468174044045\n",
      "120 0.43190074027515946\n",
      "121 0.43190074027515946\n",
      "122 0.43190074027515946\n",
      "123 0.43190074027515946\n",
      "124 0.43190074027515946\n",
      "125 0.43190074027515946\n",
      "126 0.43190074027515946\n",
      "127 0.43190074027515946\n",
      "128 0.43190074027515946\n",
      "129 0.43190074027515946\n",
      "130 0.43190074027515946\n",
      "131 0.43190074027515946\n",
      "132 0.43190074027515946\n",
      "133 0.7229336326476188\n",
      "134 0.43190074027515946\n",
      "135 0.43190074027515946\n",
      "136 0.43190074027515946\n",
      "137 0.43190074027515946\n",
      "138 0.7229336326476188\n",
      "139 0.43190074027515946\n",
      "140 0.43190074027515946\n",
      "141 1.0168187347007913\n",
      "142 0.480725083843572\n",
      "143 0.480725083843572\n",
      "144 0.480725083843572\n",
      "145 5.03721737433225\n",
      "146 0.480725083843572\n",
      "147 0.480725083843572\n",
      "148 0.480725083843572\n",
      "149 0.480725083843572\n",
      "150 0.4627487752004526\n",
      "151 0.4627487752004526\n",
      "152 0.4627487752004526\n",
      "153 0.4627487752004526\n",
      "154 0.4627487752004526\n",
      "155 0.4627487752004526\n",
      "156 1.0666725907707586\n",
      "157 0.4627487752004526\n",
      "158 0.4627487752004526\n",
      "159 0.7923768576118165\n",
      "160 0.5024826485547236\n",
      "161 0.5024826485547236\n",
      "162 0.5024826485547236\n",
      "163 0.5024826485547236\n",
      "164 0.5024826485547236\n",
      "165 0.5024826485547236\n",
      "166 0.5024826485547236\n",
      "167 0.5024826485547236\n",
      "168 0.5024826485547236\n",
      "169 0.5024826485547236\n",
      "170 0.5024826485547236\n",
      "171 0.5024826485547236\n",
      "172 0.5024826485547236\n",
      "173 0.7963677430874668\n",
      "174 0.5024826485547236\n",
      "175 0.5024826485547236\n",
      "176 0.5024826485547236\n",
      "177 0.5024826485547236\n",
      "178 0.5024826485547236\n",
      "179 0.5024826485547236\n",
      "180 0.5024826485547236\n",
      "181 0.5024826485547236\n",
      "182 0.5024826485547236\n",
      "183 0.5024826485547236\n",
      "184 0.5024826485547236\n",
      "185 0.5024826485547236\n",
      "186 0.5024826485547236\n",
      "187 0.5024826485547236\n",
      "188 0.5024826485547236\n",
      "189 0.4438851062091998\n",
      "190 0.9763222157489508\n",
      "191 0.4438851062091998\n",
      "192 0.4438851062091998\n",
      "193 0.4438851062091998\n",
      "194 0.4438851062091998\n",
      "195 0.4438851062091998\n",
      "196 0.4438851062091998\n",
      "197 0.4438851062091998\n",
      "198 0.4438851062091998\n",
      "199 0.4438851062091998\n",
      "200 0.4438851062091998\n",
      "201 0.4438851062091998\n",
      "202 0.4438851062091998\n",
      "203 0.4438851062091998\n",
      "204 0.4438851062091998\n",
      "205 0.4438851062091998\n",
      "206 0.4438851062091998\n",
      "207 0.4438851062091998\n",
      "208 0.4438851062091998\n",
      "209 0.4438851062091998\n",
      "210 0.4438851062091998\n",
      "211 0.46221376489847915\n",
      "212 0.46221376489847915\n",
      "213 0.46221376489847915\n",
      "214 1.0212970750406385\n",
      "215 0.40814139300491664\n",
      "216 0.708346742624417\n",
      "217 0.40814139300491664\n",
      "218 0.40814139300491664\n",
      "219 0.40814139300491664\n",
      "220 0.40814139300491664\n",
      "221 0.40814139300491664\n",
      "222 0.40814139300491664\n",
      "223 0.40814139300491664\n",
      "224 0.40814139300491664\n",
      "225 0.40814139300491664\n",
      "226 0.40814139300491664\n",
      "227 0.40814139300491664\n",
      "228 0.40814139300491664\n",
      "229 0.40814139300491664\n",
      "230 0.40814139300491664\n",
      "231 0.40814139300491664\n",
      "232 0.6281139222090133\n",
      "233 0.4110923801665194\n",
      "234 0.6281139222090133\n",
      "235 0.6281139222090133\n",
      "236 0.4110923801665194\n",
      "237 0.4111612107022665\n",
      "238 0.4111612107022665\n",
      "239 0.4111612107022665\n",
      "240 0.4111612107022665\n",
      "241 0.4111612107022665\n",
      "242 0.4111612107022665\n",
      "243 0.4111612107022665\n",
      "244 0.4111612107022665\n",
      "245 0.4111612107022665\n",
      "246 0.4111612107022665\n",
      "247 0.7241115365875885\n",
      "248 0.4111612107022665\n",
      "249 1.000640123151243\n",
      "250 0.4111612107022665\n",
      "251 0.4111612107022665\n",
      "252 0.4111612107022665\n",
      "253 0.4111612107022665\n",
      "254 1.4419445043895391\n",
      "255 0.5208406994584946\n",
      "256 0.5208406994584946\n",
      "257 0.5208406994584946\n",
      "258 0.5208406994584946\n",
      "259 0.5208406994584946\n",
      "260 0.5208406994584946\n",
      "261 0.5208406994584946\n",
      "262 0.5208406994584946\n",
      "263 0.5208406994584946\n",
      "264 0.5208406994584946\n",
      "265 0.5208406994584946\n",
      "266 0.5208406994584946\n",
      "267 0.4502053401200101\n",
      "268 0.4502053401200101\n",
      "269 0.4502053401200101\n",
      "270 0.4502053401200101\n",
      "271 0.4502053401200101\n",
      "272 0.4502053401200101\n",
      "273 0.4502053401200101\n",
      "274 0.4502053401200101\n",
      "275 0.4502053401200101\n",
      "276 0.4502053401200101\n",
      "277 0.4502053401200101\n",
      "278 0.7631556642241777\n",
      "279 0.4502053401200101\n",
      "280 0.4502053401200101\n",
      "281 0.4502053401200101\n",
      "282 0.4502053401200101\n",
      "283 0.4502053401200101\n",
      "284 0.4502053401200101\n",
      "285 0.4502053401200101\n",
      "286 0.4502053401200101\n",
      "287 0.4502053401200101\n",
      "288 0.4502053401200101\n",
      "289 0.3686089716793504\n",
      "290 0.3686089716793504\n",
      "291 0.8599262353032828\n",
      "292 0.5856305082794279\n",
      "293 0.8091913470299915\n",
      "294 0.8091913470299915\n",
      "295 0.3686089716793504\n",
      "296 0.8091913470299915\n",
      "297 0.8091913470299915\n",
      "298 0.5190908811811824\n",
      "299 0.5190908811811824\n",
      "300 0.5190908811811824\n",
      "301 0.5190908811811824\n",
      "302 0.5190908811811824\n",
      "303 0.5190908811811824\n",
      "304 0.5190908811811824\n",
      "305 0.5190908811811824\n",
      "306 0.4186218609916978\n",
      "307 0.4186218609916978\n",
      "308 0.4186218609916978\n",
      "309 0.4186218609916978\n",
      "310 0.7469589244807141\n",
      "311 0.4186218609916978\n",
      "312 0.4186218609916978\n",
      "313 0.4186218609916978\n",
      "314 0.4186218609916978\n",
      "315 0.4186218609916978\n",
      "316 0.4186218609916978\n",
      "317 0.4186218609916978\n",
      "318 0.4186218609916978\n",
      "319 0.4186218609916978\n",
      "320 0.4186218609916978\n",
      "321 0.4186218609916978\n",
      "322 0.4186218609916978\n",
      "323 0.4186218609916978\n",
      "324 0.4186218609916978\n",
      "325 0.4186218609916978\n",
      "326 0.4998259742045775\n",
      "327 0.4998259742045775\n",
      "328 0.4998259742045775\n",
      "329 0.4998259742045775\n",
      "330 0.4998259742045775\n",
      "331 0.4998259742045775\n",
      "332 0.4998259742045775\n",
      "333 0.4998259742045775\n",
      "334 0.4998259742045775\n",
      "335 0.4998259742045775\n",
      "336 0.4998259742045775\n",
      "337 0.4998259742045775\n",
      "338 0.4998259742045775\n",
      "339 0.4998259742045775\n",
      "340 0.4998259742045775\n",
      "341 0.4998259742045775\n",
      "342 0.4998259742045775\n",
      "343 0.4708570546237752\n",
      "344 0.4708570546237752\n",
      "345 0.4708570546237752\n",
      "346 0.4708570546237752\n",
      "347 0.4708570546237752\n",
      "348 0.4708570546237752\n",
      "349 0.4708570546237752\n",
      "350 0.4708570546237752\n",
      "351 0.4708570546237752\n",
      "352 0.4708570546237752\n",
      "353 0.4708570546237752\n",
      "354 0.4708570546237752\n",
      "355 0.4708570546237752\n",
      "356 0.4708570546237752\n",
      "357 0.4708570546237752\n",
      "358 0.4708570546237752\n",
      "359 0.4708570546237752\n",
      "360 0.4550457115750759\n",
      "361 0.4550457115750759\n",
      "362 0.42429571208194833\n",
      "363 0.42429571208194833\n",
      "364 0.42429571208194833\n",
      "365 0.42429571208194833\n",
      "366 0.42429571208194833\n",
      "367 0.42429571208194833\n",
      "368 0.42429571208194833\n",
      "369 0.42429571208194833\n",
      "370 0.42429571208194833\n",
      "371 0.42429571208194833\n",
      "372 0.42429571208194833\n",
      "373 0.42429571208194833\n",
      "374 0.42429571208194833\n",
      "375 0.42429571208194833\n",
      "376 0.42429571208194833\n",
      "377 0.42429571208194833\n",
      "378 0.42429571208194833\n",
      "379 0.42429571208194833\n",
      "380 0.42429571208194833\n",
      "381 0.5401252265932273\n",
      "382 0.5401252265932273\n",
      "383 0.5401252265932273\n",
      "384 0.5401252265932273\n",
      "385 0.5401252265932273\n",
      "386 0.5401252265932273\n",
      "387 0.5401252265932273\n",
      "388 0.5401252265932273\n",
      "389 0.5401252265932273\n",
      "390 0.5401252265932273\n",
      "391 0.5401252265932273\n",
      "392 0.5401252265932273\n",
      "393 0.5401252265932273\n",
      "394 0.5401252265932273\n",
      "395 0.5401252265932273\n",
      "396 0.5401252265932273\n",
      "397 0.5401252265932273\n",
      "398 0.5401252265932273\n",
      "399 0.5401252265932273\n",
      "400 0.5401252265932273\n",
      "401 0.5401252265932273\n",
      "402 0.5401252265932273\n",
      "403 0.5401252265932273\n",
      "404 0.5401252265932273\n",
      "405 0.5401252265932273\n",
      "406 0.5401252265932273\n",
      "407 0.5401252265932273\n",
      "408 0.5401252265932273\n",
      "409 0.5401252265932273\n",
      "410 0.5401252265932273\n",
      "411 0.4410328989033587\n",
      "412 0.4410328989033587\n",
      "413 0.4410328989033587\n",
      "414 0.7539832299342379\n",
      "415 0.4410328989033587\n",
      "416 0.4410328989033587\n",
      "417 0.4410328989033587\n",
      "418 0.4410328989033587\n",
      "419 0.4410328989033587\n",
      "420 0.4410328989033587\n",
      "421 0.4410328989033587\n",
      "422 0.4410328989033587\n",
      "423 0.4410328989033587\n",
      "424 0.4410328989033587\n",
      "425 0.4410328989033587\n",
      "426 0.4410328989033587\n",
      "427 0.4410328989033587\n",
      "428 0.4410328989033587\n",
      "429 0.4410328989033587\n",
      "430 0.4410328989033587\n",
      "431 0.4410328989033587\n",
      "432 0.5152313408034387\n",
      "433 0.5152313408034387\n",
      "434 0.5152313408034387\n",
      "435 0.5152313408034387\n",
      "436 0.4796280917129479\n",
      "437 0.4796280917129479\n",
      "438 0.4796280917129479\n",
      "439 0.4796280917129479\n",
      "440 0.4796280917129479\n",
      "441 0.4796280917129479\n",
      "442 0.4796280917129479\n",
      "443 0.4796280917129479\n",
      "444 0.4796280917129479\n",
      "445 0.4796280917129479\n",
      "446 0.4796280917129479\n",
      "447 0.4796280917129479\n",
      "448 0.4796280917129479\n",
      "449 0.4796280917129479\n",
      "450 0.4796280917129479\n",
      "451 0.4796280917129479\n",
      "452 0.4796280917129479\n",
      "453 0.4796280917129479\n",
      "454 0.4796280917129479\n",
      "455 0.4796280917129479\n",
      "456 0.4796280917129479\n",
      "457 0.4796280917129479\n",
      "458 0.4796280917129479\n",
      "459 0.4461309689679183\n",
      "460 0.3670215406571514\n",
      "461 0.3670215406571514\n",
      "462 0.47833706774399615\n",
      "463 0.47833706774399615\n",
      "464 0.47833706774399615\n",
      "465 0.47833706774399615\n",
      "466 0.47833706774399615\n",
      "467 0.47833706774399615\n",
      "468 0.47833706774399615\n",
      "469 0.47833706774399615\n",
      "470 0.47833706774399615\n",
      "471 0.47833706774399615\n",
      "472 0.47833706774399615\n",
      "473 0.47833706774399615\n",
      "474 0.47833706774399615\n",
      "475 0.47833706774399615\n",
      "476 0.47833706774399615\n",
      "477 0.47833706774399615\n",
      "478 0.47833706774399615\n",
      "479 0.47833706774399615\n",
      "480 0.47833706774399615\n",
      "481 0.47833706774399615\n",
      "482 0.47833706774399615\n",
      "483 0.47833706774399615\n",
      "484 0.47833706774399615\n",
      "485 0.47833706774399615\n",
      "486 0.47833706774399615\n",
      "487 0.4629503296455369\n",
      "488 0.4629503296455369\n",
      "489 0.4629503296455369\n",
      "490 0.4629503296455369\n",
      "491 0.4629503296455369\n",
      "492 0.4629503296455369\n",
      "493 0.4629503296455369\n",
      "494 0.4629503296455369\n",
      "495 0.4629503296455369\n",
      "496 0.4629503296455369\n",
      "497 0.4629503296455369\n",
      "498 0.4629503296455369\n",
      "499 0.4629503296455369\n",
      "500 0.4629503296455369\n",
      "501 0.4629503296455369\n",
      "502 0.4629503296455369\n",
      "503 0.4629503296455369\n",
      "504 0.4629503296455369\n",
      "505 0.4629503296455369\n",
      "506 0.4629503296455369\n",
      "507 0.4629503296455369\n",
      "508 0.4629503296455369\n",
      "509 0.4545954466215336\n",
      "11760 0.15000000000000002\n",
      "11779 0.15000000000000002\n",
      "11811 0.15000000000000002\n",
      "11842 0.15000000000000002\n",
      "11995 0.15000000000000002\n",
      "12019 0.15000000000000002\n",
      "12027 0.15000000000000002\n",
      "12111 0.15000000000000002\n",
      "12120 0.15000000000000002\n",
      "12147 0.15000000000000002\n",
      "12179 0.15000000000000002\n",
      "12241 0.15000000000000002\n",
      "12265 0.15000000000000002\n",
      "12377 0.15000000000000002\n",
      "12397 0.15000000000000002\n",
      "12425 0.15000000000000002\n",
      "12436 0.15000000000000002\n",
      "12464 0.15000000000000002\n",
      "12478 0.15000000000000002\n",
      "12501 0.15000000000000002\n",
      "12503 0.15000000000000002\n",
      "12528 0.15000000000000002\n",
      "12531 0.15000000000000002\n",
      "12534 0.15000000000000002\n",
      "12544 0.15000000000000002\n",
      "12559 0.15000000000000002\n",
      "12582 0.15000000000000002\n",
      "12622 0.15000000000000002\n",
      "12629 0.15000000000000002\n",
      "12630 0.15000000000000002\n",
      "12637 0.15000000000000002\n",
      "12667 0.15000000000000002\n",
      "12669 0.15000000000000002\n",
      "12692 0.15000000000000002\n",
      "12702 0.15000000000000002\n",
      "12703 0.15000000000000002\n",
      "12706 0.15000000000000002\n",
      "12736 0.15000000000000002\n",
      "12739 0.15000000000000002\n",
      "12761 0.15000000000000002\n",
      "12766 0.15000000000000002\n",
      "12772 0.15000000000000002\n",
      "12795 0.15000000000000002\n",
      "12825 0.15000000000000002\n",
      "12841 0.15000000000000002\n",
      "12869 0.15000000000000002\n",
      "12926 0.15000000000000002\n",
      "12972 0.15000000000000002\n",
      "12993 0.15000000000000002\n",
      "12994 0.15000000000000002\n",
      "13022 0.15000000000000002\n",
      "13041 0.15000000000000002\n",
      "13043 0.15000000000000002\n",
      "13046 0.15000000000000002\n",
      "13077 0.15000000000000002\n",
      "13094 0.15000000000000002\n",
      "13121 0.15000000000000002\n",
      "13149 0.15000000000000002\n",
      "13180 0.15000000000000002\n",
      "13209 0.15000000000000002\n",
      "13234 0.15000000000000002\n",
      "13263 0.15000000000000002\n",
      "13287 0.15000000000000002\n",
      "13314 0.15000000000000002\n",
      "13330 0.15000000000000002\n",
      "13342 0.15000000000000002\n",
      "13371 0.15000000000000002\n",
      "13401 0.15000000000000002\n",
      "13448 0.15000000000000002\n",
      "13478 0.15000000000000002\n",
      "13508 0.15000000000000002\n",
      "13510 0.15000000000000002\n",
      "13527 0.15000000000000002\n",
      "13531 0.15000000000000002\n",
      "13547 0.15000000000000002\n",
      "13635 0.15000000000000002\n",
      "13649 0.15000000000000002\n",
      "13663 0.15000000000000002\n",
      "13681 0.15000000000000002\n",
      "13689 0.15000000000000002\n",
      "13707 0.15000000000000002\n",
      "13745 0.15000000000000002\n",
      "13758 0.15000000000000002\n",
      "13771 0.15000000000000002\n",
      "13799 0.15000000000000002\n",
      "13805 0.15000000000000002\n"
     ]
    },
    {
     "name": "stdout",
     "output_type": "stream",
     "text": [
      "13807 0.15000000000000002\n",
      "13808 0.15000000000000002\n",
      "13824 0.15000000000000002\n",
      "13848 0.15000000000000002\n",
      "13879 0.15000000000000002\n",
      "13886 0.15000000000000002\n",
      "13914 0.15000000000000002\n",
      "13938 0.15000000000000002\n",
      "13940 0.15000000000000002\n",
      "13968 0.15000000000000002\n",
      "13991 0.15000000000000002\n",
      "14017 0.15000000000000002\n",
      "14027 0.15000000000000002\n",
      "14034 0.15000000000000002\n",
      "14057 0.15000000000000002\n",
      "14079 0.15000000000000002\n",
      "14110 0.15000000000000002\n",
      "14113 0.15000000000000002\n",
      "14143 0.15000000000000002\n",
      "14162 0.15000000000000002\n",
      "14163 0.15000000000000002\n",
      "14192 0.15000000000000002\n",
      "14204 0.15000000000000002\n",
      "14217 0.15000000000000002\n",
      "14242 0.15000000000000002\n",
      "14272 0.15000000000000002\n",
      "14300 0.15000000000000002\n",
      "14318 0.15000000000000002\n",
      "14344 0.15000000000000002\n",
      "14371 0.15000000000000002\n",
      "14375 0.15000000000000002\n",
      "14401 0.15000000000000002\n",
      "14428 0.15000000000000002\n",
      "14455 0.15000000000000002\n",
      "14483 0.15000000000000002\n",
      "14510 0.15000000000000002\n",
      "14541 0.15000000000000002\n",
      "14569 0.15000000000000002\n",
      "14598 0.15000000000000002\n",
      "14599 0.15000000000000002\n"
     ]
    }
   ],
   "source": [
    "with driver.session() as session:\n",
    "    result = session.run(\n",
    "        \"\"\"CALL gds.pageRank.stream($graphName, $algoConfig)\n",
    "            YIELD nodeId, score\n",
    "            RETURN gds.util.asNode(nodeId) as node, score\n",
    "        \"\"\",\n",
    "        graphName=graphName,\n",
    "        algoConfig=algoConfig,\n",
    "    )\n",
    "    for record in result:\n",
    "        print(record.get(\"node\").get(\"user_id\"), record.get(\"score\"))"
   ]
  },
  {
   "cell_type": "markdown",
   "metadata": {},
   "source": [
    "### Writing results back to the graph"
   ]
  },
  {
   "cell_type": "code",
   "execution_count": 9,
   "metadata": {},
   "outputs": [
    {
     "data": {
      "text/plain": [
       "{'nodePropertiesWritten': 596,\n",
       " 'createMillis': 0,\n",
       " 'computeMillis': 484,\n",
       " 'writeMillis': 37,\n",
       " 'ranIterations': 20,\n",
       " 'didConverge': False,\n",
       " 'configuration': {'maxIterations': 20,\n",
       "  'writeConcurrency': 4,\n",
       "  'sourceNodes': [],\n",
       "  'writeProperty': 'pr',\n",
       "  'relationshipWeightProperty': None,\n",
       "  'nodeLabels': ['*'],\n",
       "  'sudo': False,\n",
       "  'dampingFactor': 0.85,\n",
       "  'relationshipTypes': ['*'],\n",
       "  'cacheWeights': False,\n",
       "  'tolerance': 1e-07,\n",
       "  'concurrency': 4}}"
      ]
     },
     "metadata": {},
     "output_type": "display_data"
    }
   ],
   "source": [
    "algoConfig[\"writeProperty\"] = \"pr\"\n",
    "\n",
    "with driver.session() as session:\n",
    "    result = session.run(\n",
    "        \"CALL gds.pageRank.write($graphName, $algoConfig)\",\n",
    "        graphName=graphName,\n",
    "        algoConfig=algoConfig,\n",
    "    )\n",
    "    display(result.single().data())"
   ]
  },
  {
   "cell_type": "markdown",
   "metadata": {},
   "source": [
    "## Dropping a named projected graph"
   ]
  },
  {
   "cell_type": "code",
   "execution_count": 10,
   "metadata": {},
   "outputs": [
    {
     "data": {
      "text/plain": [
       "[{'graphName': 'my_complex_projected_graph',\n",
       "  'nodeProjection': {'User': {'properties': {}, 'label': 'User'}},\n",
       "  'relationshipProjection': {'FOLLOWS': {'orientation': 'UNDIRECTED',\n",
       "    'aggregation': 'SINGLE',\n",
       "    'type': 'FOLLOWS',\n",
       "    'properties': {}}},\n",
       "  'nodeQuery': None,\n",
       "  'relationshipQuery': None,\n",
       "  'nodeCount': 596,\n",
       "  'relationshipCount': 1192,\n",
       "  'degreeDistribution': {'p99': 30,\n",
       "   'min': 0,\n",
       "   'max': 48,\n",
       "   'mean': 2.0,\n",
       "   'p90': 2,\n",
       "   'p50': 1,\n",
       "   'p999': 39,\n",
       "   'p95': 6,\n",
       "   'p75': 1},\n",
       "  'creationTime': neo4j.time.DateTime(2020, 8, 12, 11, 54, 59.462),\n",
       "  'modificationTime': neo4j.time.DateTime(2020, 8, 12, 11, 54, 59.552)}]"
      ]
     },
     "metadata": {},
     "output_type": "display_data"
    }
   ],
   "source": [
    "with driver.session() as session:\n",
    "    result = session.run(\n",
    "        \"CALL gds.graph.drop($graphName)\",\n",
    "        graphName=graphName,\n",
    "    )\n",
    "    display(result.data())"
   ]
  },
  {
   "cell_type": "code",
   "execution_count": null,
   "metadata": {},
   "outputs": [],
   "source": []
  }
 ],
 "metadata": {
  "kernelspec": {
   "display_name": "Python 3",
   "language": "python",
   "name": "python3"
  },
  "language_info": {
   "codemirror_mode": {
    "name": "ipython",
    "version": 3
   },
   "file_extension": ".py",
   "mimetype": "text/x-python",
   "name": "python",
   "nbconvert_exporter": "python",
   "pygments_lexer": "ipython3",
   "version": "3.7.5"
  }
 },
 "nbformat": 4,
 "nbformat_minor": 4
}
